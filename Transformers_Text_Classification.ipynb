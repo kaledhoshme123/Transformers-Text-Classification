{
  "cells": [
    {
      "cell_type": "markdown",
      "source": [
        "#Import Packages"
      ],
      "metadata": {
        "id": "5YxIJUdiVqA-"
      }
    },
    {
      "cell_type": "code",
      "execution_count": 122,
      "metadata": {
        "id": "mtLoz1UzDLw1"
      },
      "outputs": [],
      "source": [
        "import pandas as pd\n",
        "import numpy as np\n",
        "import os\n",
        "import string\n",
        "import tensorflow as tf\n",
        "import matplotlib.pyplot as plt\n",
        "from keras.preprocessing.text import Tokenizer\n",
        "from keras.preprocessing.sequence import pad_sequences\n",
        "from tensorflow.keras.layers import Input, Embedding, LSTM , Dense, Flatten, Dropout , GRU, TimeDistributed, Conv1D, MaxPool1D\n",
        "from tensorflow.keras.metrics import TruePositives, FalsePositives,categorical_accuracy, TrueNegatives, FalseNegatives, Precision, Recall, AUC\n",
        "from tensorflow.keras.models import Sequential\n",
        "from sklearn.preprocessing import LabelEncoder\n",
        "from tensorflow.keras.utils import to_categorical\n",
        "from sklearn.model_selection import train_test_split\n",
        "import nltk\n",
        "from nltk.corpus import stopwords"
      ]
    },
    {
      "cell_type": "markdown",
      "source": [
        "# Read Dataset (Train, Test)"
      ],
      "metadata": {
        "id": "6sjTHue8VsWq"
      }
    },
    {
      "cell_type": "code",
      "execution_count": 12,
      "metadata": {
        "colab": {
          "base_uri": "https://localhost:8080/",
          "height": 206
        },
        "id": "yLThkzRuDLYy",
        "outputId": "be63341a-6c2e-4853-f74f-228acd7cfda0"
      },
      "outputs": [
        {
          "output_type": "execute_result",
          "data": {
            "text/plain": [
              "   discourse_id      essay_id  \\\n",
              "0  0013cc385424  007ACE74B050   \n",
              "1  9704a709b505  007ACE74B050   \n",
              "2  c22adee811b6  007ACE74B050   \n",
              "3  a10d361e54e4  007ACE74B050   \n",
              "4  db3e453ec4e2  007ACE74B050   \n",
              "\n",
              "                                      discourse_text discourse_type  \\\n",
              "0  Hi, i'm Isaac, i'm going to be writing about h...           Lead   \n",
              "1  On my perspective, I think that the face is a ...       Position   \n",
              "2  I think that the face is a natural landform be...          Claim   \n",
              "3  If life was on Mars, we would know by now. The...       Evidence   \n",
              "4  People thought that the face was formed by ali...   Counterclaim   \n",
              "\n",
              "  discourse_effectiveness  \n",
              "0                Adequate  \n",
              "1                Adequate  \n",
              "2                Adequate  \n",
              "3                Adequate  \n",
              "4                Adequate  "
            ],
            "text/html": [
              "\n",
              "  <div id=\"df-7cd456c7-beb6-4443-bf98-07cfee991b72\">\n",
              "    <div class=\"colab-df-container\">\n",
              "      <div>\n",
              "<style scoped>\n",
              "    .dataframe tbody tr th:only-of-type {\n",
              "        vertical-align: middle;\n",
              "    }\n",
              "\n",
              "    .dataframe tbody tr th {\n",
              "        vertical-align: top;\n",
              "    }\n",
              "\n",
              "    .dataframe thead th {\n",
              "        text-align: right;\n",
              "    }\n",
              "</style>\n",
              "<table border=\"1\" class=\"dataframe\">\n",
              "  <thead>\n",
              "    <tr style=\"text-align: right;\">\n",
              "      <th></th>\n",
              "      <th>discourse_id</th>\n",
              "      <th>essay_id</th>\n",
              "      <th>discourse_text</th>\n",
              "      <th>discourse_type</th>\n",
              "      <th>discourse_effectiveness</th>\n",
              "    </tr>\n",
              "  </thead>\n",
              "  <tbody>\n",
              "    <tr>\n",
              "      <th>0</th>\n",
              "      <td>0013cc385424</td>\n",
              "      <td>007ACE74B050</td>\n",
              "      <td>Hi, i'm Isaac, i'm going to be writing about h...</td>\n",
              "      <td>Lead</td>\n",
              "      <td>Adequate</td>\n",
              "    </tr>\n",
              "    <tr>\n",
              "      <th>1</th>\n",
              "      <td>9704a709b505</td>\n",
              "      <td>007ACE74B050</td>\n",
              "      <td>On my perspective, I think that the face is a ...</td>\n",
              "      <td>Position</td>\n",
              "      <td>Adequate</td>\n",
              "    </tr>\n",
              "    <tr>\n",
              "      <th>2</th>\n",
              "      <td>c22adee811b6</td>\n",
              "      <td>007ACE74B050</td>\n",
              "      <td>I think that the face is a natural landform be...</td>\n",
              "      <td>Claim</td>\n",
              "      <td>Adequate</td>\n",
              "    </tr>\n",
              "    <tr>\n",
              "      <th>3</th>\n",
              "      <td>a10d361e54e4</td>\n",
              "      <td>007ACE74B050</td>\n",
              "      <td>If life was on Mars, we would know by now. The...</td>\n",
              "      <td>Evidence</td>\n",
              "      <td>Adequate</td>\n",
              "    </tr>\n",
              "    <tr>\n",
              "      <th>4</th>\n",
              "      <td>db3e453ec4e2</td>\n",
              "      <td>007ACE74B050</td>\n",
              "      <td>People thought that the face was formed by ali...</td>\n",
              "      <td>Counterclaim</td>\n",
              "      <td>Adequate</td>\n",
              "    </tr>\n",
              "  </tbody>\n",
              "</table>\n",
              "</div>\n",
              "      <button class=\"colab-df-convert\" onclick=\"convertToInteractive('df-7cd456c7-beb6-4443-bf98-07cfee991b72')\"\n",
              "              title=\"Convert this dataframe to an interactive table.\"\n",
              "              style=\"display:none;\">\n",
              "        \n",
              "  <svg xmlns=\"http://www.w3.org/2000/svg\" height=\"24px\"viewBox=\"0 0 24 24\"\n",
              "       width=\"24px\">\n",
              "    <path d=\"M0 0h24v24H0V0z\" fill=\"none\"/>\n",
              "    <path d=\"M18.56 5.44l.94 2.06.94-2.06 2.06-.94-2.06-.94-.94-2.06-.94 2.06-2.06.94zm-11 1L8.5 8.5l.94-2.06 2.06-.94-2.06-.94L8.5 2.5l-.94 2.06-2.06.94zm10 10l.94 2.06.94-2.06 2.06-.94-2.06-.94-.94-2.06-.94 2.06-2.06.94z\"/><path d=\"M17.41 7.96l-1.37-1.37c-.4-.4-.92-.59-1.43-.59-.52 0-1.04.2-1.43.59L10.3 9.45l-7.72 7.72c-.78.78-.78 2.05 0 2.83L4 21.41c.39.39.9.59 1.41.59.51 0 1.02-.2 1.41-.59l7.78-7.78 2.81-2.81c.8-.78.8-2.07 0-2.86zM5.41 20L4 18.59l7.72-7.72 1.47 1.35L5.41 20z\"/>\n",
              "  </svg>\n",
              "      </button>\n",
              "      \n",
              "  <style>\n",
              "    .colab-df-container {\n",
              "      display:flex;\n",
              "      flex-wrap:wrap;\n",
              "      gap: 12px;\n",
              "    }\n",
              "\n",
              "    .colab-df-convert {\n",
              "      background-color: #E8F0FE;\n",
              "      border: none;\n",
              "      border-radius: 50%;\n",
              "      cursor: pointer;\n",
              "      display: none;\n",
              "      fill: #1967D2;\n",
              "      height: 32px;\n",
              "      padding: 0 0 0 0;\n",
              "      width: 32px;\n",
              "    }\n",
              "\n",
              "    .colab-df-convert:hover {\n",
              "      background-color: #E2EBFA;\n",
              "      box-shadow: 0px 1px 2px rgba(60, 64, 67, 0.3), 0px 1px 3px 1px rgba(60, 64, 67, 0.15);\n",
              "      fill: #174EA6;\n",
              "    }\n",
              "\n",
              "    [theme=dark] .colab-df-convert {\n",
              "      background-color: #3B4455;\n",
              "      fill: #D2E3FC;\n",
              "    }\n",
              "\n",
              "    [theme=dark] .colab-df-convert:hover {\n",
              "      background-color: #434B5C;\n",
              "      box-shadow: 0px 1px 3px 1px rgba(0, 0, 0, 0.15);\n",
              "      filter: drop-shadow(0px 1px 2px rgba(0, 0, 0, 0.3));\n",
              "      fill: #FFFFFF;\n",
              "    }\n",
              "  </style>\n",
              "\n",
              "      <script>\n",
              "        const buttonEl =\n",
              "          document.querySelector('#df-7cd456c7-beb6-4443-bf98-07cfee991b72 button.colab-df-convert');\n",
              "        buttonEl.style.display =\n",
              "          google.colab.kernel.accessAllowed ? 'block' : 'none';\n",
              "\n",
              "        async function convertToInteractive(key) {\n",
              "          const element = document.querySelector('#df-7cd456c7-beb6-4443-bf98-07cfee991b72');\n",
              "          const dataTable =\n",
              "            await google.colab.kernel.invokeFunction('convertToInteractive',\n",
              "                                                     [key], {});\n",
              "          if (!dataTable) return;\n",
              "\n",
              "          const docLinkHtml = 'Like what you see? Visit the ' +\n",
              "            '<a target=\"_blank\" href=https://colab.research.google.com/notebooks/data_table.ipynb>data table notebook</a>'\n",
              "            + ' to learn more about interactive tables.';\n",
              "          element.innerHTML = '';\n",
              "          dataTable['output_type'] = 'display_data';\n",
              "          await google.colab.output.renderOutput(dataTable, element);\n",
              "          const docLink = document.createElement('div');\n",
              "          docLink.innerHTML = docLinkHtml;\n",
              "          element.appendChild(docLink);\n",
              "        }\n",
              "      </script>\n",
              "    </div>\n",
              "  </div>\n",
              "  "
            ]
          },
          "metadata": {},
          "execution_count": 12
        }
      ],
      "source": [
        "train_dataset = pd.read_csv(\"train.csv\")\n",
        "test_dataset = pd.read_csv(\"test.csv\")\n",
        "train_dataset.head()"
      ]
    },
    {
      "cell_type": "code",
      "execution_count": 13,
      "metadata": {
        "id": "lrv-5PWfLK7l"
      },
      "outputs": [],
      "source": [
        "train_dataset = train_dataset.sample(frac = 1)"
      ]
    },
    {
      "cell_type": "code",
      "execution_count": 14,
      "metadata": {
        "colab": {
          "base_uri": "https://localhost:8080/",
          "height": 206
        },
        "id": "P4VcIry_LYq9",
        "outputId": "ecef94af-c76c-47d5-cfed-b8b712af7cd1"
      },
      "outputs": [
        {
          "output_type": "execute_result",
          "data": {
            "text/plain": [
              "       discourse_id      essay_id  \\\n",
              "30183  a14e19a6d618  D8EAAA9AB53B   \n",
              "29870  5ac78ac89d1c  D279FF9C83D7   \n",
              "28448  3f33c26d6ce0  BB3EBEF87BBB   \n",
              "4217   ff86124f7bb9  4AEA13D034F3   \n",
              "23630  af75f669e28c  7A2D0B189298   \n",
              "\n",
              "                                          discourse_text discourse_type  \\\n",
              "30183  Another example is that a friend has not only ...       Evidence   \n",
              "29870               our country is already lazy enough.           Claim   \n",
              "28448  But many still believe that it is alien. Even ...       Evidence   \n",
              "4217   There are a lot of things that can back this u...       Evidence   \n",
              "23630  Many my agrue that, the Electoral college is t...   Counterclaim   \n",
              "\n",
              "      discourse_effectiveness  \n",
              "30183               Effective  \n",
              "29870                Adequate  \n",
              "28448             Ineffective  \n",
              "4217              Ineffective  \n",
              "23630             Ineffective  "
            ],
            "text/html": [
              "\n",
              "  <div id=\"df-d374f3eb-0d5b-418e-8b7f-c5cfefc872d1\">\n",
              "    <div class=\"colab-df-container\">\n",
              "      <div>\n",
              "<style scoped>\n",
              "    .dataframe tbody tr th:only-of-type {\n",
              "        vertical-align: middle;\n",
              "    }\n",
              "\n",
              "    .dataframe tbody tr th {\n",
              "        vertical-align: top;\n",
              "    }\n",
              "\n",
              "    .dataframe thead th {\n",
              "        text-align: right;\n",
              "    }\n",
              "</style>\n",
              "<table border=\"1\" class=\"dataframe\">\n",
              "  <thead>\n",
              "    <tr style=\"text-align: right;\">\n",
              "      <th></th>\n",
              "      <th>discourse_id</th>\n",
              "      <th>essay_id</th>\n",
              "      <th>discourse_text</th>\n",
              "      <th>discourse_type</th>\n",
              "      <th>discourse_effectiveness</th>\n",
              "    </tr>\n",
              "  </thead>\n",
              "  <tbody>\n",
              "    <tr>\n",
              "      <th>30183</th>\n",
              "      <td>a14e19a6d618</td>\n",
              "      <td>D8EAAA9AB53B</td>\n",
              "      <td>Another example is that a friend has not only ...</td>\n",
              "      <td>Evidence</td>\n",
              "      <td>Effective</td>\n",
              "    </tr>\n",
              "    <tr>\n",
              "      <th>29870</th>\n",
              "      <td>5ac78ac89d1c</td>\n",
              "      <td>D279FF9C83D7</td>\n",
              "      <td>our country is already lazy enough.</td>\n",
              "      <td>Claim</td>\n",
              "      <td>Adequate</td>\n",
              "    </tr>\n",
              "    <tr>\n",
              "      <th>28448</th>\n",
              "      <td>3f33c26d6ce0</td>\n",
              "      <td>BB3EBEF87BBB</td>\n",
              "      <td>But many still believe that it is alien. Even ...</td>\n",
              "      <td>Evidence</td>\n",
              "      <td>Ineffective</td>\n",
              "    </tr>\n",
              "    <tr>\n",
              "      <th>4217</th>\n",
              "      <td>ff86124f7bb9</td>\n",
              "      <td>4AEA13D034F3</td>\n",
              "      <td>There are a lot of things that can back this u...</td>\n",
              "      <td>Evidence</td>\n",
              "      <td>Ineffective</td>\n",
              "    </tr>\n",
              "    <tr>\n",
              "      <th>23630</th>\n",
              "      <td>af75f669e28c</td>\n",
              "      <td>7A2D0B189298</td>\n",
              "      <td>Many my agrue that, the Electoral college is t...</td>\n",
              "      <td>Counterclaim</td>\n",
              "      <td>Ineffective</td>\n",
              "    </tr>\n",
              "  </tbody>\n",
              "</table>\n",
              "</div>\n",
              "      <button class=\"colab-df-convert\" onclick=\"convertToInteractive('df-d374f3eb-0d5b-418e-8b7f-c5cfefc872d1')\"\n",
              "              title=\"Convert this dataframe to an interactive table.\"\n",
              "              style=\"display:none;\">\n",
              "        \n",
              "  <svg xmlns=\"http://www.w3.org/2000/svg\" height=\"24px\"viewBox=\"0 0 24 24\"\n",
              "       width=\"24px\">\n",
              "    <path d=\"M0 0h24v24H0V0z\" fill=\"none\"/>\n",
              "    <path d=\"M18.56 5.44l.94 2.06.94-2.06 2.06-.94-2.06-.94-.94-2.06-.94 2.06-2.06.94zm-11 1L8.5 8.5l.94-2.06 2.06-.94-2.06-.94L8.5 2.5l-.94 2.06-2.06.94zm10 10l.94 2.06.94-2.06 2.06-.94-2.06-.94-.94-2.06-.94 2.06-2.06.94z\"/><path d=\"M17.41 7.96l-1.37-1.37c-.4-.4-.92-.59-1.43-.59-.52 0-1.04.2-1.43.59L10.3 9.45l-7.72 7.72c-.78.78-.78 2.05 0 2.83L4 21.41c.39.39.9.59 1.41.59.51 0 1.02-.2 1.41-.59l7.78-7.78 2.81-2.81c.8-.78.8-2.07 0-2.86zM5.41 20L4 18.59l7.72-7.72 1.47 1.35L5.41 20z\"/>\n",
              "  </svg>\n",
              "      </button>\n",
              "      \n",
              "  <style>\n",
              "    .colab-df-container {\n",
              "      display:flex;\n",
              "      flex-wrap:wrap;\n",
              "      gap: 12px;\n",
              "    }\n",
              "\n",
              "    .colab-df-convert {\n",
              "      background-color: #E8F0FE;\n",
              "      border: none;\n",
              "      border-radius: 50%;\n",
              "      cursor: pointer;\n",
              "      display: none;\n",
              "      fill: #1967D2;\n",
              "      height: 32px;\n",
              "      padding: 0 0 0 0;\n",
              "      width: 32px;\n",
              "    }\n",
              "\n",
              "    .colab-df-convert:hover {\n",
              "      background-color: #E2EBFA;\n",
              "      box-shadow: 0px 1px 2px rgba(60, 64, 67, 0.3), 0px 1px 3px 1px rgba(60, 64, 67, 0.15);\n",
              "      fill: #174EA6;\n",
              "    }\n",
              "\n",
              "    [theme=dark] .colab-df-convert {\n",
              "      background-color: #3B4455;\n",
              "      fill: #D2E3FC;\n",
              "    }\n",
              "\n",
              "    [theme=dark] .colab-df-convert:hover {\n",
              "      background-color: #434B5C;\n",
              "      box-shadow: 0px 1px 3px 1px rgba(0, 0, 0, 0.15);\n",
              "      filter: drop-shadow(0px 1px 2px rgba(0, 0, 0, 0.3));\n",
              "      fill: #FFFFFF;\n",
              "    }\n",
              "  </style>\n",
              "\n",
              "      <script>\n",
              "        const buttonEl =\n",
              "          document.querySelector('#df-d374f3eb-0d5b-418e-8b7f-c5cfefc872d1 button.colab-df-convert');\n",
              "        buttonEl.style.display =\n",
              "          google.colab.kernel.accessAllowed ? 'block' : 'none';\n",
              "\n",
              "        async function convertToInteractive(key) {\n",
              "          const element = document.querySelector('#df-d374f3eb-0d5b-418e-8b7f-c5cfefc872d1');\n",
              "          const dataTable =\n",
              "            await google.colab.kernel.invokeFunction('convertToInteractive',\n",
              "                                                     [key], {});\n",
              "          if (!dataTable) return;\n",
              "\n",
              "          const docLinkHtml = 'Like what you see? Visit the ' +\n",
              "            '<a target=\"_blank\" href=https://colab.research.google.com/notebooks/data_table.ipynb>data table notebook</a>'\n",
              "            + ' to learn more about interactive tables.';\n",
              "          element.innerHTML = '';\n",
              "          dataTable['output_type'] = 'display_data';\n",
              "          await google.colab.output.renderOutput(dataTable, element);\n",
              "          const docLink = document.createElement('div');\n",
              "          docLink.innerHTML = docLinkHtml;\n",
              "          element.appendChild(docLink);\n",
              "        }\n",
              "      </script>\n",
              "    </div>\n",
              "  </div>\n",
              "  "
            ]
          },
          "metadata": {},
          "execution_count": 14
        }
      ],
      "source": [
        "train_dataset.head()"
      ]
    },
    {
      "cell_type": "code",
      "execution_count": 15,
      "metadata": {
        "colab": {
          "base_uri": "https://localhost:8080/",
          "height": 175
        },
        "id": "YKQzZD9Ws37m",
        "outputId": "a2afca29-a581-483c-af97-c9052e6a4895"
      },
      "outputs": [
        {
          "output_type": "execute_result",
          "data": {
            "text/plain": [
              "        discourse_id      essay_id  \\\n",
              "count          36765         36765   \n",
              "unique         36765          4191   \n",
              "top     a14e19a6d618  900A879708F0   \n",
              "freq               1            23   \n",
              "\n",
              "                                     discourse_text discourse_type  \\\n",
              "count                                         36765          36765   \n",
              "unique                                        36691              7   \n",
              "top     Summer projects should be student-designed        Evidence   \n",
              "freq                                             14          12105   \n",
              "\n",
              "       discourse_effectiveness  \n",
              "count                    36765  \n",
              "unique                       3  \n",
              "top                   Adequate  \n",
              "freq                     20977  "
            ],
            "text/html": [
              "\n",
              "  <div id=\"df-d5e4225b-2ebd-4327-bbfd-7f13a809515a\">\n",
              "    <div class=\"colab-df-container\">\n",
              "      <div>\n",
              "<style scoped>\n",
              "    .dataframe tbody tr th:only-of-type {\n",
              "        vertical-align: middle;\n",
              "    }\n",
              "\n",
              "    .dataframe tbody tr th {\n",
              "        vertical-align: top;\n",
              "    }\n",
              "\n",
              "    .dataframe thead th {\n",
              "        text-align: right;\n",
              "    }\n",
              "</style>\n",
              "<table border=\"1\" class=\"dataframe\">\n",
              "  <thead>\n",
              "    <tr style=\"text-align: right;\">\n",
              "      <th></th>\n",
              "      <th>discourse_id</th>\n",
              "      <th>essay_id</th>\n",
              "      <th>discourse_text</th>\n",
              "      <th>discourse_type</th>\n",
              "      <th>discourse_effectiveness</th>\n",
              "    </tr>\n",
              "  </thead>\n",
              "  <tbody>\n",
              "    <tr>\n",
              "      <th>count</th>\n",
              "      <td>36765</td>\n",
              "      <td>36765</td>\n",
              "      <td>36765</td>\n",
              "      <td>36765</td>\n",
              "      <td>36765</td>\n",
              "    </tr>\n",
              "    <tr>\n",
              "      <th>unique</th>\n",
              "      <td>36765</td>\n",
              "      <td>4191</td>\n",
              "      <td>36691</td>\n",
              "      <td>7</td>\n",
              "      <td>3</td>\n",
              "    </tr>\n",
              "    <tr>\n",
              "      <th>top</th>\n",
              "      <td>a14e19a6d618</td>\n",
              "      <td>900A879708F0</td>\n",
              "      <td>Summer projects should be student-designed</td>\n",
              "      <td>Evidence</td>\n",
              "      <td>Adequate</td>\n",
              "    </tr>\n",
              "    <tr>\n",
              "      <th>freq</th>\n",
              "      <td>1</td>\n",
              "      <td>23</td>\n",
              "      <td>14</td>\n",
              "      <td>12105</td>\n",
              "      <td>20977</td>\n",
              "    </tr>\n",
              "  </tbody>\n",
              "</table>\n",
              "</div>\n",
              "      <button class=\"colab-df-convert\" onclick=\"convertToInteractive('df-d5e4225b-2ebd-4327-bbfd-7f13a809515a')\"\n",
              "              title=\"Convert this dataframe to an interactive table.\"\n",
              "              style=\"display:none;\">\n",
              "        \n",
              "  <svg xmlns=\"http://www.w3.org/2000/svg\" height=\"24px\"viewBox=\"0 0 24 24\"\n",
              "       width=\"24px\">\n",
              "    <path d=\"M0 0h24v24H0V0z\" fill=\"none\"/>\n",
              "    <path d=\"M18.56 5.44l.94 2.06.94-2.06 2.06-.94-2.06-.94-.94-2.06-.94 2.06-2.06.94zm-11 1L8.5 8.5l.94-2.06 2.06-.94-2.06-.94L8.5 2.5l-.94 2.06-2.06.94zm10 10l.94 2.06.94-2.06 2.06-.94-2.06-.94-.94-2.06-.94 2.06-2.06.94z\"/><path d=\"M17.41 7.96l-1.37-1.37c-.4-.4-.92-.59-1.43-.59-.52 0-1.04.2-1.43.59L10.3 9.45l-7.72 7.72c-.78.78-.78 2.05 0 2.83L4 21.41c.39.39.9.59 1.41.59.51 0 1.02-.2 1.41-.59l7.78-7.78 2.81-2.81c.8-.78.8-2.07 0-2.86zM5.41 20L4 18.59l7.72-7.72 1.47 1.35L5.41 20z\"/>\n",
              "  </svg>\n",
              "      </button>\n",
              "      \n",
              "  <style>\n",
              "    .colab-df-container {\n",
              "      display:flex;\n",
              "      flex-wrap:wrap;\n",
              "      gap: 12px;\n",
              "    }\n",
              "\n",
              "    .colab-df-convert {\n",
              "      background-color: #E8F0FE;\n",
              "      border: none;\n",
              "      border-radius: 50%;\n",
              "      cursor: pointer;\n",
              "      display: none;\n",
              "      fill: #1967D2;\n",
              "      height: 32px;\n",
              "      padding: 0 0 0 0;\n",
              "      width: 32px;\n",
              "    }\n",
              "\n",
              "    .colab-df-convert:hover {\n",
              "      background-color: #E2EBFA;\n",
              "      box-shadow: 0px 1px 2px rgba(60, 64, 67, 0.3), 0px 1px 3px 1px rgba(60, 64, 67, 0.15);\n",
              "      fill: #174EA6;\n",
              "    }\n",
              "\n",
              "    [theme=dark] .colab-df-convert {\n",
              "      background-color: #3B4455;\n",
              "      fill: #D2E3FC;\n",
              "    }\n",
              "\n",
              "    [theme=dark] .colab-df-convert:hover {\n",
              "      background-color: #434B5C;\n",
              "      box-shadow: 0px 1px 3px 1px rgba(0, 0, 0, 0.15);\n",
              "      filter: drop-shadow(0px 1px 2px rgba(0, 0, 0, 0.3));\n",
              "      fill: #FFFFFF;\n",
              "    }\n",
              "  </style>\n",
              "\n",
              "      <script>\n",
              "        const buttonEl =\n",
              "          document.querySelector('#df-d5e4225b-2ebd-4327-bbfd-7f13a809515a button.colab-df-convert');\n",
              "        buttonEl.style.display =\n",
              "          google.colab.kernel.accessAllowed ? 'block' : 'none';\n",
              "\n",
              "        async function convertToInteractive(key) {\n",
              "          const element = document.querySelector('#df-d5e4225b-2ebd-4327-bbfd-7f13a809515a');\n",
              "          const dataTable =\n",
              "            await google.colab.kernel.invokeFunction('convertToInteractive',\n",
              "                                                     [key], {});\n",
              "          if (!dataTable) return;\n",
              "\n",
              "          const docLinkHtml = 'Like what you see? Visit the ' +\n",
              "            '<a target=\"_blank\" href=https://colab.research.google.com/notebooks/data_table.ipynb>data table notebook</a>'\n",
              "            + ' to learn more about interactive tables.';\n",
              "          element.innerHTML = '';\n",
              "          dataTable['output_type'] = 'display_data';\n",
              "          await google.colab.output.renderOutput(dataTable, element);\n",
              "          const docLink = document.createElement('div');\n",
              "          docLink.innerHTML = docLinkHtml;\n",
              "          element.appendChild(docLink);\n",
              "        }\n",
              "      </script>\n",
              "    </div>\n",
              "  </div>\n",
              "  "
            ]
          },
          "metadata": {},
          "execution_count": 15
        }
      ],
      "source": [
        "train_dataset.describe()"
      ]
    },
    {
      "cell_type": "code",
      "execution_count": 16,
      "metadata": {
        "colab": {
          "base_uri": "https://localhost:8080/"
        },
        "id": "-bg772yws3iN",
        "outputId": "ff910a7f-b8dd-420d-9679-19e3652b1a06"
      },
      "outputs": [
        {
          "output_type": "stream",
          "name": "stdout",
          "text": [
            "<class 'pandas.core.frame.DataFrame'>\n",
            "Int64Index: 36765 entries, 30183 to 36346\n",
            "Data columns (total 5 columns):\n",
            " #   Column                   Non-Null Count  Dtype \n",
            "---  ------                   --------------  ----- \n",
            " 0   discourse_id             36765 non-null  object\n",
            " 1   essay_id                 36765 non-null  object\n",
            " 2   discourse_text           36765 non-null  object\n",
            " 3   discourse_type           36765 non-null  object\n",
            " 4   discourse_effectiveness  36765 non-null  object\n",
            "dtypes: object(5)\n",
            "memory usage: 1.7+ MB\n"
          ]
        }
      ],
      "source": [
        "train_dataset.info()"
      ]
    },
    {
      "cell_type": "code",
      "source": [
        "# for test\n",
        "test_dataset.head()"
      ],
      "metadata": {
        "colab": {
          "base_uri": "https://localhost:8080/",
          "height": 206
        },
        "id": "jJMilX2A72Ya",
        "outputId": "bd07211d-7336-42a6-f916-9ef4fd157a73"
      },
      "execution_count": 18,
      "outputs": [
        {
          "output_type": "execute_result",
          "data": {
            "text/plain": [
              "   discourse_id      essay_id  \\\n",
              "0  a261b6e14276  D72CB1C11673   \n",
              "1  5a88900e7dc1  D72CB1C11673   \n",
              "2  9790d835736b  D72CB1C11673   \n",
              "3  75ce6d68b67b  D72CB1C11673   \n",
              "4  93578d946723  D72CB1C11673   \n",
              "\n",
              "                                      discourse_text discourse_type  \n",
              "0  Making choices in life can be very difficult. ...           Lead  \n",
              "1  Seeking multiple opinions can help a person ma...       Position  \n",
              "2                     it can decrease stress levels           Claim  \n",
              "3             a great chance to learn something new           Claim  \n",
              "4               can be very helpful and beneficial.           Claim  "
            ],
            "text/html": [
              "\n",
              "  <div id=\"df-d8f41f05-da25-49b3-aa04-16bdf5f4eaa0\">\n",
              "    <div class=\"colab-df-container\">\n",
              "      <div>\n",
              "<style scoped>\n",
              "    .dataframe tbody tr th:only-of-type {\n",
              "        vertical-align: middle;\n",
              "    }\n",
              "\n",
              "    .dataframe tbody tr th {\n",
              "        vertical-align: top;\n",
              "    }\n",
              "\n",
              "    .dataframe thead th {\n",
              "        text-align: right;\n",
              "    }\n",
              "</style>\n",
              "<table border=\"1\" class=\"dataframe\">\n",
              "  <thead>\n",
              "    <tr style=\"text-align: right;\">\n",
              "      <th></th>\n",
              "      <th>discourse_id</th>\n",
              "      <th>essay_id</th>\n",
              "      <th>discourse_text</th>\n",
              "      <th>discourse_type</th>\n",
              "    </tr>\n",
              "  </thead>\n",
              "  <tbody>\n",
              "    <tr>\n",
              "      <th>0</th>\n",
              "      <td>a261b6e14276</td>\n",
              "      <td>D72CB1C11673</td>\n",
              "      <td>Making choices in life can be very difficult. ...</td>\n",
              "      <td>Lead</td>\n",
              "    </tr>\n",
              "    <tr>\n",
              "      <th>1</th>\n",
              "      <td>5a88900e7dc1</td>\n",
              "      <td>D72CB1C11673</td>\n",
              "      <td>Seeking multiple opinions can help a person ma...</td>\n",
              "      <td>Position</td>\n",
              "    </tr>\n",
              "    <tr>\n",
              "      <th>2</th>\n",
              "      <td>9790d835736b</td>\n",
              "      <td>D72CB1C11673</td>\n",
              "      <td>it can decrease stress levels</td>\n",
              "      <td>Claim</td>\n",
              "    </tr>\n",
              "    <tr>\n",
              "      <th>3</th>\n",
              "      <td>75ce6d68b67b</td>\n",
              "      <td>D72CB1C11673</td>\n",
              "      <td>a great chance to learn something new</td>\n",
              "      <td>Claim</td>\n",
              "    </tr>\n",
              "    <tr>\n",
              "      <th>4</th>\n",
              "      <td>93578d946723</td>\n",
              "      <td>D72CB1C11673</td>\n",
              "      <td>can be very helpful and beneficial.</td>\n",
              "      <td>Claim</td>\n",
              "    </tr>\n",
              "  </tbody>\n",
              "</table>\n",
              "</div>\n",
              "      <button class=\"colab-df-convert\" onclick=\"convertToInteractive('df-d8f41f05-da25-49b3-aa04-16bdf5f4eaa0')\"\n",
              "              title=\"Convert this dataframe to an interactive table.\"\n",
              "              style=\"display:none;\">\n",
              "        \n",
              "  <svg xmlns=\"http://www.w3.org/2000/svg\" height=\"24px\"viewBox=\"0 0 24 24\"\n",
              "       width=\"24px\">\n",
              "    <path d=\"M0 0h24v24H0V0z\" fill=\"none\"/>\n",
              "    <path d=\"M18.56 5.44l.94 2.06.94-2.06 2.06-.94-2.06-.94-.94-2.06-.94 2.06-2.06.94zm-11 1L8.5 8.5l.94-2.06 2.06-.94-2.06-.94L8.5 2.5l-.94 2.06-2.06.94zm10 10l.94 2.06.94-2.06 2.06-.94-2.06-.94-.94-2.06-.94 2.06-2.06.94z\"/><path d=\"M17.41 7.96l-1.37-1.37c-.4-.4-.92-.59-1.43-.59-.52 0-1.04.2-1.43.59L10.3 9.45l-7.72 7.72c-.78.78-.78 2.05 0 2.83L4 21.41c.39.39.9.59 1.41.59.51 0 1.02-.2 1.41-.59l7.78-7.78 2.81-2.81c.8-.78.8-2.07 0-2.86zM5.41 20L4 18.59l7.72-7.72 1.47 1.35L5.41 20z\"/>\n",
              "  </svg>\n",
              "      </button>\n",
              "      \n",
              "  <style>\n",
              "    .colab-df-container {\n",
              "      display:flex;\n",
              "      flex-wrap:wrap;\n",
              "      gap: 12px;\n",
              "    }\n",
              "\n",
              "    .colab-df-convert {\n",
              "      background-color: #E8F0FE;\n",
              "      border: none;\n",
              "      border-radius: 50%;\n",
              "      cursor: pointer;\n",
              "      display: none;\n",
              "      fill: #1967D2;\n",
              "      height: 32px;\n",
              "      padding: 0 0 0 0;\n",
              "      width: 32px;\n",
              "    }\n",
              "\n",
              "    .colab-df-convert:hover {\n",
              "      background-color: #E2EBFA;\n",
              "      box-shadow: 0px 1px 2px rgba(60, 64, 67, 0.3), 0px 1px 3px 1px rgba(60, 64, 67, 0.15);\n",
              "      fill: #174EA6;\n",
              "    }\n",
              "\n",
              "    [theme=dark] .colab-df-convert {\n",
              "      background-color: #3B4455;\n",
              "      fill: #D2E3FC;\n",
              "    }\n",
              "\n",
              "    [theme=dark] .colab-df-convert:hover {\n",
              "      background-color: #434B5C;\n",
              "      box-shadow: 0px 1px 3px 1px rgba(0, 0, 0, 0.15);\n",
              "      filter: drop-shadow(0px 1px 2px rgba(0, 0, 0, 0.3));\n",
              "      fill: #FFFFFF;\n",
              "    }\n",
              "  </style>\n",
              "\n",
              "      <script>\n",
              "        const buttonEl =\n",
              "          document.querySelector('#df-d8f41f05-da25-49b3-aa04-16bdf5f4eaa0 button.colab-df-convert');\n",
              "        buttonEl.style.display =\n",
              "          google.colab.kernel.accessAllowed ? 'block' : 'none';\n",
              "\n",
              "        async function convertToInteractive(key) {\n",
              "          const element = document.querySelector('#df-d8f41f05-da25-49b3-aa04-16bdf5f4eaa0');\n",
              "          const dataTable =\n",
              "            await google.colab.kernel.invokeFunction('convertToInteractive',\n",
              "                                                     [key], {});\n",
              "          if (!dataTable) return;\n",
              "\n",
              "          const docLinkHtml = 'Like what you see? Visit the ' +\n",
              "            '<a target=\"_blank\" href=https://colab.research.google.com/notebooks/data_table.ipynb>data table notebook</a>'\n",
              "            + ' to learn more about interactive tables.';\n",
              "          element.innerHTML = '';\n",
              "          dataTable['output_type'] = 'display_data';\n",
              "          await google.colab.output.renderOutput(dataTable, element);\n",
              "          const docLink = document.createElement('div');\n",
              "          docLink.innerHTML = docLinkHtml;\n",
              "          element.appendChild(docLink);\n",
              "        }\n",
              "      </script>\n",
              "    </div>\n",
              "  </div>\n",
              "  "
            ]
          },
          "metadata": {},
          "execution_count": 18
        }
      ]
    },
    {
      "cell_type": "code",
      "execution_count": 19,
      "metadata": {
        "id": "ddqN03sqtxtG"
      },
      "outputs": [],
      "source": [
        "discourse_text = train_dataset['discourse_text']\n",
        "discourse_type = train_dataset['discourse_type']\n",
        "labels = train_dataset['discourse_effectiveness']"
      ]
    },
    {
      "cell_type": "code",
      "source": [
        "# for test\n",
        "discourse_text_test = test_dataset['discourse_text']\n",
        "discourse_type_test = test_dataset['discourse_type']"
      ],
      "metadata": {
        "id": "SOIzAH61PVUi"
      },
      "execution_count": 20,
      "outputs": []
    },
    {
      "cell_type": "code",
      "source": [
        "discourse_text = discourse_text.str.strip()"
      ],
      "metadata": {
        "id": "diKyxOcTSs59"
      },
      "execution_count": 21,
      "outputs": []
    },
    {
      "cell_type": "code",
      "source": [
        "# for test\n",
        "discourse_text_test = discourse_text_test.str.strip()"
      ],
      "metadata": {
        "id": "Tabf81MqPdhG"
      },
      "execution_count": 22,
      "outputs": []
    },
    {
      "cell_type": "code",
      "source": [
        "discourse_text"
      ],
      "metadata": {
        "colab": {
          "base_uri": "https://localhost:8080/"
        },
        "id": "eoi22k7WTArf",
        "outputId": "4967512b-0f7d-4011-86c4-98ffa0d40b52"
      },
      "execution_count": 23,
      "outputs": [
        {
          "output_type": "execute_result",
          "data": {
            "text/plain": [
              "30183    Another example is that a friend has not only ...\n",
              "29870                  our country is already lazy enough.\n",
              "28448    But many still believe that it is alien. Even ...\n",
              "4217     There are a lot of things that can back this u...\n",
              "23630    Many my agrue that, the Electoral college is t...\n",
              "                               ...                        \n",
              "8788     student designed is better because they should...\n",
              "33442    It is obvious that almost every student has a ...\n",
              "5262     For example, working in the yearbook committee...\n",
              "27029    Al Gore ran for President and won by popular v...\n",
              "36346    How an online class works is that it's held at...\n",
              "Name: discourse_text, Length: 36765, dtype: object"
            ]
          },
          "metadata": {},
          "execution_count": 23
        }
      ]
    },
    {
      "cell_type": "code",
      "execution_count": 24,
      "metadata": {
        "id": "iyBRlqS4IUgZ"
      },
      "outputs": [],
      "source": [
        "def CleanFeatures(sentences):\n",
        "  sentences = sentences.apply(lambda sequence:\n",
        "                                            [ltrs for ltrs in sequence if ltrs not in string.punctuation])\n",
        "  sentences = sentences.apply(lambda wrd: ''.join(wrd))\n",
        "  return sentences"
      ]
    },
    {
      "cell_type": "code",
      "execution_count": 25,
      "metadata": {
        "id": "JpvVt1mTIWtX"
      },
      "outputs": [],
      "source": [
        "discourse_text = CleanFeatures(discourse_text)"
      ]
    },
    {
      "cell_type": "code",
      "execution_count": 26,
      "metadata": {
        "id": "LOjdtzFl9vIx"
      },
      "outputs": [],
      "source": [
        "# for test\n",
        "discourse_text_test = CleanFeatures(discourse_text_test)"
      ]
    },
    {
      "cell_type": "code",
      "execution_count": 27,
      "metadata": {
        "colab": {
          "base_uri": "https://localhost:8080/"
        },
        "id": "RRkFlqJTt_Bm",
        "outputId": "94922048-3a71-4d3c-e3f7-6711c8d56dd2"
      },
      "outputs": [
        {
          "output_type": "execute_result",
          "data": {
            "text/plain": [
              "30183    Another example is that a friend has not only ...\n",
              "29870                   our country is already lazy enough\n",
              "28448    But many still believe that it is alien Even t...\n",
              "4217     There are a lot of things that can back this u...\n",
              "23630    Many my agrue that the Electoral college is th...\n",
              "Name: discourse_text, dtype: object"
            ]
          },
          "metadata": {},
          "execution_count": 27
        }
      ],
      "source": [
        "discourse_text.head()"
      ]
    },
    {
      "cell_type": "code",
      "source": [
        "# for test\n",
        "discourse_text_test.head()"
      ],
      "metadata": {
        "colab": {
          "base_uri": "https://localhost:8080/"
        },
        "id": "ZYSL6SJbPoss",
        "outputId": "747d3495-9f73-4cb0-aa28-3579333a50c5"
      },
      "execution_count": 28,
      "outputs": [
        {
          "output_type": "execute_result",
          "data": {
            "text/plain": [
              "0    Making choices in life can be very difficult P...\n",
              "1    Seeking multiple opinions can help a person ma...\n",
              "2                        it can decrease stress levels\n",
              "3                a great chance to learn something new\n",
              "4                   can be very helpful and beneficial\n",
              "Name: discourse_text, dtype: object"
            ]
          },
          "metadata": {},
          "execution_count": 28
        }
      ]
    },
    {
      "cell_type": "code",
      "execution_count": 29,
      "metadata": {
        "colab": {
          "base_uri": "https://localhost:8080/"
        },
        "id": "DitULHLHuDpO",
        "outputId": "7a278cbc-5cfc-4771-c066-b6f0753dea79"
      },
      "outputs": [
        {
          "output_type": "execute_result",
          "data": {
            "text/plain": [
              "30183        Evidence\n",
              "29870           Claim\n",
              "28448        Evidence\n",
              "4217         Evidence\n",
              "23630    Counterclaim\n",
              "Name: discourse_type, dtype: object"
            ]
          },
          "metadata": {},
          "execution_count": 29
        }
      ],
      "source": [
        "discourse_type.head()"
      ]
    },
    {
      "cell_type": "code",
      "source": [
        "discourse_type.unique()"
      ],
      "metadata": {
        "colab": {
          "base_uri": "https://localhost:8080/"
        },
        "id": "CUf3PYvkXa_0",
        "outputId": "dfad1ebd-37bf-4731-a06f-4e30a62a3285"
      },
      "execution_count": 30,
      "outputs": [
        {
          "output_type": "execute_result",
          "data": {
            "text/plain": [
              "array(['Evidence', 'Claim', 'Counterclaim', 'Concluding Statement',\n",
              "       'Position', 'Lead', 'Rebuttal'], dtype=object)"
            ]
          },
          "metadata": {},
          "execution_count": 30
        }
      ]
    },
    {
      "cell_type": "code",
      "execution_count": 31,
      "metadata": {
        "colab": {
          "base_uri": "https://localhost:8080/"
        },
        "id": "r8KTd5ziuB4l",
        "outputId": "32981f71-3f34-4f67-cef0-1431cef3f970"
      },
      "outputs": [
        {
          "output_type": "execute_result",
          "data": {
            "text/plain": [
              "30183      Effective\n",
              "29870       Adequate\n",
              "28448    Ineffective\n",
              "4217     Ineffective\n",
              "23630    Ineffective\n",
              "            ...     \n",
              "8788        Adequate\n",
              "33442      Effective\n",
              "5262        Adequate\n",
              "27029    Ineffective\n",
              "36346    Ineffective\n",
              "Name: discourse_effectiveness, Length: 36765, dtype: object"
            ]
          },
          "metadata": {},
          "execution_count": 31
        }
      ],
      "source": [
        "labels"
      ]
    },
    {
      "cell_type": "code",
      "execution_count": 32,
      "metadata": {
        "colab": {
          "base_uri": "https://localhost:8080/"
        },
        "id": "2VZdBIfeN9pn",
        "outputId": "cf6df009-4a50-4492-84c0-f01b3d9db71a"
      },
      "outputs": [
        {
          "output_type": "execute_result",
          "data": {
            "text/plain": [
              "(36765,)"
            ]
          },
          "metadata": {},
          "execution_count": 32
        }
      ],
      "source": [
        "discourse_text.shape"
      ]
    },
    {
      "cell_type": "code",
      "execution_count": 33,
      "metadata": {
        "id": "r5TIlIuVm3Ce"
      },
      "outputs": [],
      "source": [
        "text = np.asarray([discourse_type[index] + \" \"+ value for index, value in enumerate(discourse_text) ])"
      ]
    },
    {
      "cell_type": "code",
      "source": [
        "# for test\n",
        "text_test = np.asarray([discourse_type_test[index] + \" \"+ value for index, value in enumerate(discourse_text_test) ])"
      ],
      "metadata": {
        "id": "db6qMgqsPxy8"
      },
      "execution_count": 34,
      "outputs": []
    },
    {
      "cell_type": "code",
      "execution_count": 35,
      "metadata": {
        "colab": {
          "base_uri": "https://localhost:8080/"
        },
        "id": "WCb3riwKu_7_",
        "outputId": "3e4ac1c0-1e86-4535-8085-3b8f85fecceb"
      },
      "outputs": [
        {
          "output_type": "execute_result",
          "data": {
            "text/plain": [
              "(36765,)"
            ]
          },
          "metadata": {},
          "execution_count": 35
        }
      ],
      "source": [
        "text.shape"
      ]
    },
    {
      "cell_type": "code",
      "source": [
        "# for test\n",
        "text_test.shape"
      ],
      "metadata": {
        "colab": {
          "base_uri": "https://localhost:8080/"
        },
        "id": "J07zrCY5P3YT",
        "outputId": "2edfc70d-643e-4cee-d2f8-2e9301c15850"
      },
      "execution_count": 36,
      "outputs": [
        {
          "output_type": "execute_result",
          "data": {
            "text/plain": [
              "(10,)"
            ]
          },
          "metadata": {},
          "execution_count": 36
        }
      ]
    },
    {
      "cell_type": "code",
      "source": [
        "text"
      ],
      "metadata": {
        "colab": {
          "base_uri": "https://localhost:8080/"
        },
        "id": "8Z8IW1AkXAey",
        "outputId": "b0ccaf1a-4b02-4187-dcf3-b76586051a43"
      },
      "execution_count": 37,
      "outputs": [
        {
          "output_type": "execute_result",
          "data": {
            "text/plain": [
              "array(['Lead Another example is that a friend has not only told me but I have witnessed how much online schooling has benefited her for the better She is not as self conscious\\xa0as she used to be due to the fact that she has gotten very used to being comfortable in her own skin and not having to listen to other peoples opinions\\xa0In school she was a C and occasionally a D student because she was always leaving class to go speak with counselors about how people would make jokes about her and throw items at her because she looked different and was Arabian Since she switched to online schooling she is now an A and B student Furthermore she is about to graduate and get her diploma with a 30 GPA If she did not switch to online schooling would she be in this situation now',\n",
              "       'Position our country is already lazy enough',\n",
              "       'Claim But many still believe that it is alien Even though this some of the best evidence to peove the face on mars isnt alien but a mistake',\n",
              "       ...,\n",
              "       'Position For example working in the yearbook committee involves students to talk about what to do and what to put in the yearbooks taking pictures might involve talking to communicate where the other student will be while taking those pictures and printing the yearbook out will need learning how to print papers',\n",
              "       'Evidence Al Gore ran for President and won by popular vote thanks to the electoral college  maybe becasue its a by luck situation because it was two parts you had to win as President  they may dont see it as a fault on Electoral College part because it did say he won by popular vote thanks to the electoral college',\n",
              "       'Concluding Statement How an online class works is that its held at a certain time every week During this hour long session the teacher turns on her video cam and goes through a power point\\xa0teaching us what we need to know for the week'],\n",
              "      dtype='<U4067')"
            ]
          },
          "metadata": {},
          "execution_count": 37
        }
      ]
    },
    {
      "cell_type": "code",
      "source": [
        "text_test"
      ],
      "metadata": {
        "colab": {
          "base_uri": "https://localhost:8080/"
        },
        "id": "d7FV--W5QUG9",
        "outputId": "f0979869-cf8c-4e3f-9bf9-3d121cebd17c"
      },
      "execution_count": 38,
      "outputs": [
        {
          "output_type": "execute_result",
          "data": {
            "text/plain": [
              "array(['Lead Making choices in life can be very difficult People often ask for advice when they can not decide on one thing Its always good to ask others for their advice when making a choice When you have multiple opinions you have the ability to make the best choice for yourself',\n",
              "       'Position Seeking multiple opinions can help a person make a better choice',\n",
              "       'Claim it can decrease stress levels',\n",
              "       'Claim a great chance to learn something new',\n",
              "       'Claim can be very helpful and beneficial',\n",
              "       'Evidence When making a decision there is a chance that you can become very stressed and overwhelmed Being stressed can cause a person to give up on what they are doing Having multiple opinions from people can make choosing an option less difficult and more easier The information that you receive from others may have a special meaning in the future Other peoples opinion can make a person feel confident in making the right choice',\n",
              "       'Evidence Everyone is different and may have more experience than you Seeking other peoples opinion can cause you to gain a new skill or lesson For example someones advice could teach you how to do something the correct way Many people are very different and have experience different things in life Seeking advice from others can teach you a lot We all learn from our mistakes in life by sharing your past experiences you may prevent someone else from making the same mistake',\n",
              "       'Claim Seeking others opinion can be very helpful and beneficial',\n",
              "       'Evidence Taking other peoples advice and doing what they say may lead to a great outcome When you receive other opinions whether they are good or bad you will be able to look at them from a different point of view For example When a group of people give you advice on yourself you then know how they look at you as a person Everyone looks at certain things from a different prospective How someone else looks at it may be how its supposed to be viewed in life',\n",
              "       'Concluding Statement You can learn from others experiences by seeking the advice that someone give you Making decisions can cause stress on a person Relating to someones advice may higher your selfesteem because you no longer feel left out Ask others for advice when making a difficult decision When you seek others opinion more opportunities are available fro yourself'],\n",
              "      dtype='<U475')"
            ]
          },
          "metadata": {},
          "execution_count": 38
        }
      ]
    },
    {
      "cell_type": "code",
      "execution_count": 39,
      "metadata": {
        "colab": {
          "base_uri": "https://localhost:8080/"
        },
        "id": "2lQeJ6VH3WBh",
        "outputId": "0453d283-1735-4bc7-f8aa-5887e001e32a"
      },
      "outputs": [
        {
          "output_type": "stream",
          "name": "stdout",
          "text": [
            "Looking in indexes: https://pypi.org/simple, https://us-python.pkg.dev/colab-wheels/public/simple/\n",
            "Collecting transformers\n",
            "  Downloading transformers-4.21.1-py3-none-any.whl (4.7 MB)\n",
            "\u001b[K     |████████████████████████████████| 4.7 MB 4.1 MB/s \n",
            "\u001b[?25hRequirement already satisfied: regex!=2019.12.17 in /usr/local/lib/python3.7/dist-packages (from transformers) (2022.6.2)\n",
            "Requirement already satisfied: packaging>=20.0 in /usr/local/lib/python3.7/dist-packages (from transformers) (21.3)\n",
            "Collecting pyyaml>=5.1\n",
            "  Downloading PyYAML-6.0-cp37-cp37m-manylinux_2_5_x86_64.manylinux1_x86_64.manylinux_2_12_x86_64.manylinux2010_x86_64.whl (596 kB)\n",
            "\u001b[K     |████████████████████████████████| 596 kB 82.9 MB/s \n",
            "\u001b[?25hRequirement already satisfied: tqdm>=4.27 in /usr/local/lib/python3.7/dist-packages (from transformers) (4.64.0)\n",
            "Collecting huggingface-hub<1.0,>=0.1.0\n",
            "  Downloading huggingface_hub-0.8.1-py3-none-any.whl (101 kB)\n",
            "\u001b[K     |████████████████████████████████| 101 kB 14.3 MB/s \n",
            "\u001b[?25hRequirement already satisfied: requests in /usr/local/lib/python3.7/dist-packages (from transformers) (2.23.0)\n",
            "Requirement already satisfied: numpy>=1.17 in /usr/local/lib/python3.7/dist-packages (from transformers) (1.21.6)\n",
            "Requirement already satisfied: importlib-metadata in /usr/local/lib/python3.7/dist-packages (from transformers) (4.12.0)\n",
            "Collecting tokenizers!=0.11.3,<0.13,>=0.11.1\n",
            "  Downloading tokenizers-0.12.1-cp37-cp37m-manylinux_2_12_x86_64.manylinux2010_x86_64.whl (6.6 MB)\n",
            "\u001b[K     |████████████████████████████████| 6.6 MB 79.1 MB/s \n",
            "\u001b[?25hRequirement already satisfied: filelock in /usr/local/lib/python3.7/dist-packages (from transformers) (3.7.1)\n",
            "Requirement already satisfied: typing-extensions>=3.7.4.3 in /usr/local/lib/python3.7/dist-packages (from huggingface-hub<1.0,>=0.1.0->transformers) (4.1.1)\n",
            "Requirement already satisfied: pyparsing!=3.0.5,>=2.0.2 in /usr/local/lib/python3.7/dist-packages (from packaging>=20.0->transformers) (3.0.9)\n",
            "Requirement already satisfied: zipp>=0.5 in /usr/local/lib/python3.7/dist-packages (from importlib-metadata->transformers) (3.8.1)\n",
            "Requirement already satisfied: idna<3,>=2.5 in /usr/local/lib/python3.7/dist-packages (from requests->transformers) (2.10)\n",
            "Requirement already satisfied: chardet<4,>=3.0.2 in /usr/local/lib/python3.7/dist-packages (from requests->transformers) (3.0.4)\n",
            "Requirement already satisfied: certifi>=2017.4.17 in /usr/local/lib/python3.7/dist-packages (from requests->transformers) (2022.6.15)\n",
            "Requirement already satisfied: urllib3!=1.25.0,!=1.25.1,<1.26,>=1.21.1 in /usr/local/lib/python3.7/dist-packages (from requests->transformers) (1.24.3)\n",
            "Installing collected packages: pyyaml, tokenizers, huggingface-hub, transformers\n",
            "  Attempting uninstall: pyyaml\n",
            "    Found existing installation: PyYAML 3.13\n",
            "    Uninstalling PyYAML-3.13:\n",
            "      Successfully uninstalled PyYAML-3.13\n",
            "Successfully installed huggingface-hub-0.8.1 pyyaml-6.0 tokenizers-0.12.1 transformers-4.21.1\n"
          ]
        }
      ],
      "source": [
        "!pip install transformers"
      ]
    },
    {
      "cell_type": "markdown",
      "source": [
        "#Tokenizer Data (Train, Test)"
      ],
      "metadata": {
        "id": "6glLbApBXEHx"
      }
    },
    {
      "cell_type": "code",
      "execution_count": 40,
      "metadata": {
        "id": "WsVwpNII3Jt3"
      },
      "outputs": [],
      "source": [
        "from transformers import AutoTokenizer"
      ]
    },
    {
      "cell_type": "code",
      "execution_count": 41,
      "metadata": {
        "id": "TaB-5FpF3xH5"
      },
      "outputs": [],
      "source": [
        "sequence_length = [len(str(te).split()) for te in text]"
      ]
    },
    {
      "cell_type": "code",
      "execution_count": 42,
      "metadata": {
        "id": "Yu7xzFhf4RAd"
      },
      "outputs": [],
      "source": [
        "SEQ_LEN = np.max(sequence_length)"
      ]
    },
    {
      "cell_type": "code",
      "source": [
        "SEQ_LEN"
      ],
      "metadata": {
        "colab": {
          "base_uri": "https://localhost:8080/"
        },
        "id": "V-sjw6FJ8QNY",
        "outputId": "42a811bb-09f2-461d-8268-5baf67e7d630"
      },
      "execution_count": 43,
      "outputs": [
        {
          "output_type": "execute_result",
          "data": {
            "text/plain": [
              "837"
            ]
          },
          "metadata": {},
          "execution_count": 43
        }
      ]
    },
    {
      "cell_type": "code",
      "execution_count": 44,
      "metadata": {
        "colab": {
          "base_uri": "https://localhost:8080/",
          "height": 145,
          "referenced_widgets": [
            "fb2b728180d94e8eb0c573d98663fc1c",
            "156d45923a2649b28713c1ffd1fca230",
            "dd8adbfe5f7d471687c8a814b674b42a",
            "450e8007f8e64149ba0836e59438352c",
            "92dde1a9006f41079c8e30bb33c41573",
            "9ec01a6fad3342489d8ac13809e746c6",
            "a5debc6ea7db4947bdc043e7f4f230c8",
            "3b56ab43f7764cc39ed5cc57ff7cbeca",
            "b96f15e6f80743ac9245774b5d0a2a9f",
            "280b013910944df789982291ec2ed255",
            "d4f4e4d815a443e5815ae368e507d497",
            "50b21e5819ac4571a1271b812a1e48d2",
            "37e587aaf34140988a3aa0b76d6f3a72",
            "d7ae19ebef1e4b6ea4aa59d78df15dcd",
            "9c5b741abcf44b93a91e269bd2448a5a",
            "7a91004e2bf64edaa3b6333ecc82dcea",
            "d9a0d6757c3f40aaad88f1da6549fbc2",
            "36dda10070b647979d5a858cfcbdcd5d",
            "f69b94b005db46f3a769efd6d9a39f6f",
            "83833cac9cc1434e8f42d19a933971ce",
            "c35d20ad52ad48b297d5672e7e6590a7",
            "684c62fe44024051bbfd1634ee50af2d",
            "271d546101a247d98f3356c4a73615ce",
            "1f5500894d3b4e1ca8260fcc5e791179",
            "ab727ac870ba4a8fa0a52f2f1d704aa5",
            "2f01b144a10d4d93b3b81ea6fc3697c3",
            "10db1eb05c6745599e41740019c2ef4f",
            "c781c98ab6e340ffac09e83a4b7205be",
            "c5da1ddfeb0544c09e71620f2f03f6c5",
            "e48b045f3058436282499cb971401602",
            "22b8ff1cecf146abb46b7a7ee55f2fc0",
            "769b1d9ab0d143a59020754f97ca31a6",
            "9cab26eff33c4003a7e314294d64326b",
            "eed7502d737848bb8b65493ba7eba811",
            "6e326b9cc3da42abb119e00eac9d45f0",
            "7dc579b1fee94cc086f87e8586c03b4c",
            "971225d0bc634889a6d535cf2f0a2f83",
            "72669590a72b46f5a42323ab666b164d",
            "cb509c45ed514313a3448189b129a218",
            "12cd31cde213404fa2ea74ca677cd308",
            "7cef06cb92f44c858983c881dd800e1b",
            "0672d23631504685891785803e100e96",
            "c7b8dcd7e7fd4720bb09b0fa3d21ba79",
            "43f81277ef2f4564860171d06b62d054"
          ]
        },
        "id": "zKk9LNqL5AKP",
        "outputId": "6fbe4980-bace-41cb-d688-46598697bcc1"
      },
      "outputs": [
        {
          "output_type": "display_data",
          "data": {
            "text/plain": [
              "Downloading tokenizer_config.json:   0%|          | 0.00/29.0 [00:00<?, ?B/s]"
            ],
            "application/vnd.jupyter.widget-view+json": {
              "version_major": 2,
              "version_minor": 0,
              "model_id": "fb2b728180d94e8eb0c573d98663fc1c"
            }
          },
          "metadata": {}
        },
        {
          "output_type": "display_data",
          "data": {
            "text/plain": [
              "Downloading config.json:   0%|          | 0.00/570 [00:00<?, ?B/s]"
            ],
            "application/vnd.jupyter.widget-view+json": {
              "version_major": 2,
              "version_minor": 0,
              "model_id": "50b21e5819ac4571a1271b812a1e48d2"
            }
          },
          "metadata": {}
        },
        {
          "output_type": "display_data",
          "data": {
            "text/plain": [
              "Downloading vocab.txt:   0%|          | 0.00/208k [00:00<?, ?B/s]"
            ],
            "application/vnd.jupyter.widget-view+json": {
              "version_major": 2,
              "version_minor": 0,
              "model_id": "271d546101a247d98f3356c4a73615ce"
            }
          },
          "metadata": {}
        },
        {
          "output_type": "display_data",
          "data": {
            "text/plain": [
              "Downloading tokenizer.json:   0%|          | 0.00/426k [00:00<?, ?B/s]"
            ],
            "application/vnd.jupyter.widget-view+json": {
              "version_major": 2,
              "version_minor": 0,
              "model_id": "eed7502d737848bb8b65493ba7eba811"
            }
          },
          "metadata": {}
        }
      ],
      "source": [
        "tokenizer = AutoTokenizer.from_pretrained('bert-base-cased')"
      ]
    },
    {
      "cell_type": "code",
      "execution_count": 45,
      "metadata": {
        "id": "Qc_V8mxxD0Fs"
      },
      "outputs": [],
      "source": [
        "input_ids = []\n",
        "attention_mask = []"
      ]
    },
    {
      "cell_type": "code",
      "source": [
        "# for test\n",
        "input_ids_test = []\n",
        "attention_mask_test = []"
      ],
      "metadata": {
        "id": "hO6mz-yvQe_n"
      },
      "execution_count": 46,
      "outputs": []
    },
    {
      "cell_type": "code",
      "execution_count": 47,
      "metadata": {
        "id": "H9uPbOClFD6w"
      },
      "outputs": [],
      "source": [
        "for index, value in enumerate(text):\n",
        "  tokens = tokenizer.encode_plus(value, max_length= SEQ_LEN, padding = \"max_length\",\n",
        "                                 truncation = True, return_token_type_ids = False,\n",
        "                                 return_attention_mask = True, return_tensors = 'np')\n",
        "  input_ids.append(tokens['input_ids'])\n",
        "  attention_mask.append(tokens['attention_mask'])"
      ]
    },
    {
      "cell_type": "code",
      "source": [
        "# for test\n",
        "for index, value in enumerate(text_test):\n",
        "  tokens = tokenizer.encode_plus(value, max_length= SEQ_LEN, padding = \"max_length\",\n",
        "                                 truncation = True, return_token_type_ids = False,\n",
        "                                 return_attention_mask = True, return_tensors = 'np')\n",
        "  input_ids_test.append(tokens['input_ids'])\n",
        "  attention_mask_test.append(tokens['attention_mask'])"
      ],
      "metadata": {
        "id": "C68tobHJQitn"
      },
      "execution_count": 48,
      "outputs": []
    },
    {
      "cell_type": "code",
      "execution_count": 49,
      "metadata": {
        "id": "W1oe0AgwF2m4"
      },
      "outputs": [],
      "source": [
        "input_ids = np.asarray(input_ids)\n",
        "attention_mask = np.asarray(attention_mask)"
      ]
    },
    {
      "cell_type": "code",
      "source": [
        "# for test\n",
        "input_ids_test = np.asarray(input_ids_test)\n",
        "attention_mask_test = np.asarray(attention_mask_test)"
      ],
      "metadata": {
        "id": "IJbHnJjUQumo"
      },
      "execution_count": 50,
      "outputs": []
    },
    {
      "cell_type": "code",
      "execution_count": 51,
      "metadata": {
        "id": "ad44R4K3HKow"
      },
      "outputs": [],
      "source": [
        "input_ids = input_ids.reshape(input_ids.shape[0], input_ids.shape[2])\n",
        "attention_mask = attention_mask.reshape(attention_mask.shape[0], attention_mask.shape[2])"
      ]
    },
    {
      "cell_type": "code",
      "execution_count": 52,
      "metadata": {
        "id": "fkFyFdvVHWm8"
      },
      "outputs": [],
      "source": [
        "# for test\n",
        "input_ids_test = input_ids_test.reshape(input_ids_test.shape[0], input_ids_test.shape[2])\n",
        "attention_mask_test = attention_mask_test.reshape(attention_mask_test.shape[0], attention_mask_test.shape[2])"
      ]
    },
    {
      "cell_type": "code",
      "execution_count": 53,
      "metadata": {
        "colab": {
          "base_uri": "https://localhost:8080/"
        },
        "id": "Pb5YGlHHHoxm",
        "outputId": "0e709143-5ac9-4af3-f60f-cde5f55363de"
      },
      "outputs": [
        {
          "output_type": "execute_result",
          "data": {
            "text/plain": [
              "(36765, 837)"
            ]
          },
          "metadata": {},
          "execution_count": 53
        }
      ],
      "source": [
        "attention_mask.shape"
      ]
    },
    {
      "cell_type": "code",
      "execution_count": 54,
      "metadata": {
        "colab": {
          "base_uri": "https://localhost:8080/"
        },
        "id": "aJcx8xneLdPT",
        "outputId": "6a024f22-3a2d-4cc5-e456-c058ad5266e1"
      },
      "outputs": [
        {
          "output_type": "execute_result",
          "data": {
            "text/plain": [
              "(36765, 837)"
            ]
          },
          "metadata": {},
          "execution_count": 54
        }
      ],
      "source": [
        "input_ids.shape"
      ]
    },
    {
      "cell_type": "code",
      "execution_count": 55,
      "metadata": {
        "colab": {
          "base_uri": "https://localhost:8080/"
        },
        "id": "Ap-DUifrHuIV",
        "outputId": "3e53c813-90f1-4e12-ac39-a8ffc53897e3"
      },
      "outputs": [
        {
          "output_type": "execute_result",
          "data": {
            "text/plain": [
              "array([[  101, 10440,  2543, ...,     0,     0,     0],\n",
              "       [  101, 18959,  5053, ...,     0,     0,     0],\n",
              "       [  101,   140, 20737, ...,     0,     0,     0],\n",
              "       ...,\n",
              "       [  101, 18959,  5053, ...,     0,     0,     0],\n",
              "       [  101, 16573,  2586, ...,     0,     0,     0],\n",
              "       [  101, 16752,  1665, ...,     0,     0,     0]])"
            ]
          },
          "metadata": {},
          "execution_count": 55
        }
      ],
      "source": [
        "input_ids"
      ]
    },
    {
      "cell_type": "code",
      "execution_count": 56,
      "metadata": {
        "colab": {
          "base_uri": "https://localhost:8080/"
        },
        "id": "aWzEsQxVHwvO",
        "outputId": "e550a3a2-2e9c-453f-aa36-be3270cfc9e0"
      },
      "outputs": [
        {
          "output_type": "execute_result",
          "data": {
            "text/plain": [
              "array([[1, 1, 1, ..., 0, 0, 0],\n",
              "       [1, 1, 1, ..., 0, 0, 0],\n",
              "       [1, 1, 1, ..., 0, 0, 0],\n",
              "       ...,\n",
              "       [1, 1, 1, ..., 0, 0, 0],\n",
              "       [1, 1, 1, ..., 0, 0, 0],\n",
              "       [1, 1, 1, ..., 0, 0, 0]])"
            ]
          },
          "metadata": {},
          "execution_count": 56
        }
      ],
      "source": [
        "attention_mask"
      ]
    },
    {
      "cell_type": "code",
      "source": [
        "# for test\n",
        "input_ids_test"
      ],
      "metadata": {
        "colab": {
          "base_uri": "https://localhost:8080/"
        },
        "id": "3rzcVP_mWW0F",
        "outputId": "9e832f77-8ff0-409c-96a9-2dee1cf302b0"
      },
      "execution_count": 57,
      "outputs": [
        {
          "output_type": "execute_result",
          "data": {
            "text/plain": [
              "array([[  101, 10440, 10697, ...,     0,     0,     0],\n",
              "       [  101, 18959,  5053, ...,     0,     0,     0],\n",
              "       [  101,   140, 20737, ...,     0,     0,     0],\n",
              "       ...,\n",
              "       [  101,   140, 20737, ...,     0,     0,     0],\n",
              "       [  101, 16573,  9251, ...,     0,     0,     0],\n",
              "       [  101, 16752,  1665, ...,     0,     0,     0]])"
            ]
          },
          "metadata": {},
          "execution_count": 57
        }
      ]
    },
    {
      "cell_type": "code",
      "source": [
        "# for test\n",
        "input_ids_test.shape"
      ],
      "metadata": {
        "colab": {
          "base_uri": "https://localhost:8080/"
        },
        "id": "j509qecnWggA",
        "outputId": "c064ace8-25f0-4dc6-f5bd-b2ee543e4bc1"
      },
      "execution_count": 58,
      "outputs": [
        {
          "output_type": "execute_result",
          "data": {
            "text/plain": [
              "(10, 837)"
            ]
          },
          "metadata": {},
          "execution_count": 58
        }
      ]
    },
    {
      "cell_type": "code",
      "execution_count": 59,
      "metadata": {
        "id": "y4nZEN7lPfE-"
      },
      "outputs": [],
      "source": [
        "label_ = LabelEncoder()\n",
        "labels = label_.fit_transform(labels)\n",
        "labels = to_categorical(labels)"
      ]
    },
    {
      "cell_type": "code",
      "source": [
        "classes_names = list(label_.classes_)\n",
        "classes_names"
      ],
      "metadata": {
        "colab": {
          "base_uri": "https://localhost:8080/"
        },
        "id": "6dV464A4EgC7",
        "outputId": "661896ff-c033-4005-e76b-8a3343d403a9"
      },
      "execution_count": 60,
      "outputs": [
        {
          "output_type": "execute_result",
          "data": {
            "text/plain": [
              "['Adequate', 'Effective', 'Ineffective']"
            ]
          },
          "metadata": {},
          "execution_count": 60
        }
      ]
    },
    {
      "cell_type": "code",
      "execution_count": 61,
      "metadata": {
        "colab": {
          "base_uri": "https://localhost:8080/"
        },
        "id": "HUYmXHb8PlCV",
        "outputId": "a47f9a08-1ba8-4116-f78a-5f2d168855c6"
      },
      "outputs": [
        {
          "output_type": "execute_result",
          "data": {
            "text/plain": [
              "(36765, 3)"
            ]
          },
          "metadata": {},
          "execution_count": 61
        }
      ],
      "source": [
        "labels.shape"
      ]
    },
    {
      "cell_type": "code",
      "execution_count": 62,
      "metadata": {
        "colab": {
          "base_uri": "https://localhost:8080/"
        },
        "id": "_nQ9OjgVLHD7",
        "outputId": "2ae736c2-6f15-477c-b15d-d4a50d584b70"
      },
      "outputs": [
        {
          "output_type": "execute_result",
          "data": {
            "text/plain": [
              "(36765, 837)"
            ]
          },
          "metadata": {},
          "execution_count": 62
        }
      ],
      "source": [
        "input_ids.shape"
      ]
    },
    {
      "cell_type": "code",
      "execution_count": 63,
      "metadata": {
        "id": "eTwqOBfWRXUt"
      },
      "outputs": [],
      "source": [
        "dataset = tf.data.Dataset.from_tensor_slices((input_ids, attention_mask, labels))"
      ]
    },
    {
      "cell_type": "code",
      "source": [
        "labels_zeros_test = tf.zeros((10, 3), dtype = 'int32')"
      ],
      "metadata": {
        "id": "_n0Hf1fWSTbj"
      },
      "execution_count": 64,
      "outputs": []
    },
    {
      "cell_type": "code",
      "source": [
        "# for test\n",
        "dataset_test = tf.data.Dataset.from_tensor_slices((input_ids_test, attention_mask_test, labels_zeros_test))"
      ],
      "metadata": {
        "id": "J8W8gC8BRSXn"
      },
      "execution_count": 65,
      "outputs": []
    },
    {
      "cell_type": "code",
      "execution_count": 66,
      "metadata": {
        "colab": {
          "base_uri": "https://localhost:8080/"
        },
        "id": "8YYboRrjRjrV",
        "outputId": "33a639f4-7338-495a-e2a5-819e379f986e"
      },
      "outputs": [
        {
          "output_type": "stream",
          "name": "stdout",
          "text": [
            "(<tf.Tensor: shape=(837,), dtype=int64, numpy=\n",
            "array([  101, 10440,  2543,  1859,  1110,  1115,   170,  1910,  1144,\n",
            "        1136,  1178,  1500,  1143,  1133,   146,  1138,  9491,  1293,\n",
            "        1277,  3294, 15113,  1144, 21495,  1123,  1111,  1103,  1618,\n",
            "        1153,  1110,  1136,  1112,  2191,  9701,  1112,  1131,  1215,\n",
            "        1106,  1129,  1496,  1106,  1103,  1864,  1115,  1131,  1144,\n",
            "        4690,  1304,  1215,  1106,  1217,  6062,  1107,  1123,  1319,\n",
            "        2241,  1105,  1136,  1515,  1106,  5113,  1106,  1168,  7983,\n",
            "       11089,  1130,  1278,  1131,  1108,   170,   140,  1105,  5411,\n",
            "         170,   141,  2377,  1272,  1131,  1108,  1579,  2128,  1705,\n",
            "        1106,  1301,  2936,  1114, 23550,  1116,  1164,  1293,  1234,\n",
            "        1156,  1294, 13948,  1164,  1123,  1105,  4932,  4454,  1120,\n",
            "        1123,  1272,  1131,  1350,  1472,  1105,  1108, 14223,  1967,\n",
            "        1131,  6759,  1106,  3294, 15113,  1131,  1110,  1208,  1126,\n",
            "         138,  1105,   139,  2377,  7282,  1131,  1110,  1164,  1106,\n",
            "        4469,  1105,  1243,  1123, 14985,  1114,   170,  1476, 15175,\n",
            "        1592,  1409,  1131,  1225,  1136,  6878,  1106,  3294, 15113,\n",
            "        1156,  1131,  1129,  1107,  1142,  2820,  1208,   102,     0,\n",
            "           0,     0,     0,     0,     0,     0,     0,     0,     0,\n",
            "           0,     0,     0,     0,     0,     0,     0,     0,     0,\n",
            "           0,     0,     0,     0,     0,     0,     0,     0,     0,\n",
            "           0,     0,     0,     0,     0,     0,     0,     0,     0,\n",
            "           0,     0,     0,     0,     0,     0,     0,     0,     0,\n",
            "           0,     0,     0,     0,     0,     0,     0,     0,     0,\n",
            "           0,     0,     0,     0,     0,     0,     0,     0,     0,\n",
            "           0,     0,     0,     0,     0,     0,     0,     0,     0,\n",
            "           0,     0,     0,     0,     0,     0,     0,     0,     0,\n",
            "           0,     0,     0,     0,     0,     0,     0,     0,     0,\n",
            "           0,     0,     0,     0,     0,     0,     0,     0,     0,\n",
            "           0,     0,     0,     0,     0,     0,     0,     0,     0,\n",
            "           0,     0,     0,     0,     0,     0,     0,     0,     0,\n",
            "           0,     0,     0,     0,     0,     0,     0,     0,     0,\n",
            "           0,     0,     0,     0,     0,     0,     0,     0,     0,\n",
            "           0,     0,     0,     0,     0,     0,     0,     0,     0,\n",
            "           0,     0,     0,     0,     0,     0,     0,     0,     0,\n",
            "           0,     0,     0,     0,     0,     0,     0,     0,     0,\n",
            "           0,     0,     0,     0,     0,     0,     0,     0,     0,\n",
            "           0,     0,     0,     0,     0,     0,     0,     0,     0,\n",
            "           0,     0,     0,     0,     0,     0,     0,     0,     0,\n",
            "           0,     0,     0,     0,     0,     0,     0,     0,     0,\n",
            "           0,     0,     0,     0,     0,     0,     0,     0,     0,\n",
            "           0,     0,     0,     0,     0,     0,     0,     0,     0,\n",
            "           0,     0,     0,     0,     0,     0,     0,     0,     0,\n",
            "           0,     0,     0,     0,     0,     0,     0,     0,     0,\n",
            "           0,     0,     0,     0,     0,     0,     0,     0,     0,\n",
            "           0,     0,     0,     0,     0,     0,     0,     0,     0,\n",
            "           0,     0,     0,     0,     0,     0,     0,     0,     0,\n",
            "           0,     0,     0,     0,     0,     0,     0,     0,     0,\n",
            "           0,     0,     0,     0,     0,     0,     0,     0,     0,\n",
            "           0,     0,     0,     0,     0,     0,     0,     0,     0,\n",
            "           0,     0,     0,     0,     0,     0,     0,     0,     0,\n",
            "           0,     0,     0,     0,     0,     0,     0,     0,     0,\n",
            "           0,     0,     0,     0,     0,     0,     0,     0,     0,\n",
            "           0,     0,     0,     0,     0,     0,     0,     0,     0,\n",
            "           0,     0,     0,     0,     0,     0,     0,     0,     0,\n",
            "           0,     0,     0,     0,     0,     0,     0,     0,     0,\n",
            "           0,     0,     0,     0,     0,     0,     0,     0,     0,\n",
            "           0,     0,     0,     0,     0,     0,     0,     0,     0,\n",
            "           0,     0,     0,     0,     0,     0,     0,     0,     0,\n",
            "           0,     0,     0,     0,     0,     0,     0,     0,     0,\n",
            "           0,     0,     0,     0,     0,     0,     0,     0,     0,\n",
            "           0,     0,     0,     0,     0,     0,     0,     0,     0,\n",
            "           0,     0,     0,     0,     0,     0,     0,     0,     0,\n",
            "           0,     0,     0,     0,     0,     0,     0,     0,     0,\n",
            "           0,     0,     0,     0,     0,     0,     0,     0,     0,\n",
            "           0,     0,     0,     0,     0,     0,     0,     0,     0,\n",
            "           0,     0,     0,     0,     0,     0,     0,     0,     0,\n",
            "           0,     0,     0,     0,     0,     0,     0,     0,     0,\n",
            "           0,     0,     0,     0,     0,     0,     0,     0,     0,\n",
            "           0,     0,     0,     0,     0,     0,     0,     0,     0,\n",
            "           0,     0,     0,     0,     0,     0,     0,     0,     0,\n",
            "           0,     0,     0,     0,     0,     0,     0,     0,     0,\n",
            "           0,     0,     0,     0,     0,     0,     0,     0,     0,\n",
            "           0,     0,     0,     0,     0,     0,     0,     0,     0,\n",
            "           0,     0,     0,     0,     0,     0,     0,     0,     0,\n",
            "           0,     0,     0,     0,     0,     0,     0,     0,     0,\n",
            "           0,     0,     0,     0,     0,     0,     0,     0,     0,\n",
            "           0,     0,     0,     0,     0,     0,     0,     0,     0,\n",
            "           0,     0,     0,     0,     0,     0,     0,     0,     0,\n",
            "           0,     0,     0,     0,     0,     0,     0,     0,     0,\n",
            "           0,     0,     0,     0,     0,     0,     0,     0,     0,\n",
            "           0,     0,     0,     0,     0,     0,     0,     0,     0,\n",
            "           0,     0,     0,     0,     0,     0,     0,     0,     0,\n",
            "           0,     0,     0,     0,     0,     0,     0,     0,     0,\n",
            "           0,     0,     0,     0,     0,     0,     0,     0,     0,\n",
            "           0,     0,     0,     0,     0,     0,     0,     0,     0,\n",
            "           0,     0,     0,     0,     0,     0,     0,     0,     0,\n",
            "           0,     0,     0,     0,     0,     0,     0,     0,     0,\n",
            "           0,     0,     0,     0,     0,     0,     0,     0,     0,\n",
            "           0,     0,     0,     0,     0,     0,     0,     0,     0,\n",
            "           0,     0,     0,     0,     0,     0,     0,     0,     0,\n",
            "           0,     0,     0,     0,     0,     0,     0,     0,     0,\n",
            "           0,     0,     0,     0,     0,     0,     0,     0,     0,\n",
            "           0,     0,     0,     0,     0,     0,     0,     0,     0])>, <tf.Tensor: shape=(837,), dtype=int64, numpy=\n",
            "array([1, 1, 1, 1, 1, 1, 1, 1, 1, 1, 1, 1, 1, 1, 1, 1, 1, 1, 1, 1, 1, 1,\n",
            "       1, 1, 1, 1, 1, 1, 1, 1, 1, 1, 1, 1, 1, 1, 1, 1, 1, 1, 1, 1, 1, 1,\n",
            "       1, 1, 1, 1, 1, 1, 1, 1, 1, 1, 1, 1, 1, 1, 1, 1, 1, 1, 1, 1, 1, 1,\n",
            "       1, 1, 1, 1, 1, 1, 1, 1, 1, 1, 1, 1, 1, 1, 1, 1, 1, 1, 1, 1, 1, 1,\n",
            "       1, 1, 1, 1, 1, 1, 1, 1, 1, 1, 1, 1, 1, 1, 1, 1, 1, 1, 1, 1, 1, 1,\n",
            "       1, 1, 1, 1, 1, 1, 1, 1, 1, 1, 1, 1, 1, 1, 1, 1, 1, 1, 1, 1, 1, 1,\n",
            "       1, 1, 1, 1, 1, 1, 1, 1, 1, 1, 1, 1, 1, 1, 1, 1, 1, 1, 1, 1, 0, 0,\n",
            "       0, 0, 0, 0, 0, 0, 0, 0, 0, 0, 0, 0, 0, 0, 0, 0, 0, 0, 0, 0, 0, 0,\n",
            "       0, 0, 0, 0, 0, 0, 0, 0, 0, 0, 0, 0, 0, 0, 0, 0, 0, 0, 0, 0, 0, 0,\n",
            "       0, 0, 0, 0, 0, 0, 0, 0, 0, 0, 0, 0, 0, 0, 0, 0, 0, 0, 0, 0, 0, 0,\n",
            "       0, 0, 0, 0, 0, 0, 0, 0, 0, 0, 0, 0, 0, 0, 0, 0, 0, 0, 0, 0, 0, 0,\n",
            "       0, 0, 0, 0, 0, 0, 0, 0, 0, 0, 0, 0, 0, 0, 0, 0, 0, 0, 0, 0, 0, 0,\n",
            "       0, 0, 0, 0, 0, 0, 0, 0, 0, 0, 0, 0, 0, 0, 0, 0, 0, 0, 0, 0, 0, 0,\n",
            "       0, 0, 0, 0, 0, 0, 0, 0, 0, 0, 0, 0, 0, 0, 0, 0, 0, 0, 0, 0, 0, 0,\n",
            "       0, 0, 0, 0, 0, 0, 0, 0, 0, 0, 0, 0, 0, 0, 0, 0, 0, 0, 0, 0, 0, 0,\n",
            "       0, 0, 0, 0, 0, 0, 0, 0, 0, 0, 0, 0, 0, 0, 0, 0, 0, 0, 0, 0, 0, 0,\n",
            "       0, 0, 0, 0, 0, 0, 0, 0, 0, 0, 0, 0, 0, 0, 0, 0, 0, 0, 0, 0, 0, 0,\n",
            "       0, 0, 0, 0, 0, 0, 0, 0, 0, 0, 0, 0, 0, 0, 0, 0, 0, 0, 0, 0, 0, 0,\n",
            "       0, 0, 0, 0, 0, 0, 0, 0, 0, 0, 0, 0, 0, 0, 0, 0, 0, 0, 0, 0, 0, 0,\n",
            "       0, 0, 0, 0, 0, 0, 0, 0, 0, 0, 0, 0, 0, 0, 0, 0, 0, 0, 0, 0, 0, 0,\n",
            "       0, 0, 0, 0, 0, 0, 0, 0, 0, 0, 0, 0, 0, 0, 0, 0, 0, 0, 0, 0, 0, 0,\n",
            "       0, 0, 0, 0, 0, 0, 0, 0, 0, 0, 0, 0, 0, 0, 0, 0, 0, 0, 0, 0, 0, 0,\n",
            "       0, 0, 0, 0, 0, 0, 0, 0, 0, 0, 0, 0, 0, 0, 0, 0, 0, 0, 0, 0, 0, 0,\n",
            "       0, 0, 0, 0, 0, 0, 0, 0, 0, 0, 0, 0, 0, 0, 0, 0, 0, 0, 0, 0, 0, 0,\n",
            "       0, 0, 0, 0, 0, 0, 0, 0, 0, 0, 0, 0, 0, 0, 0, 0, 0, 0, 0, 0, 0, 0,\n",
            "       0, 0, 0, 0, 0, 0, 0, 0, 0, 0, 0, 0, 0, 0, 0, 0, 0, 0, 0, 0, 0, 0,\n",
            "       0, 0, 0, 0, 0, 0, 0, 0, 0, 0, 0, 0, 0, 0, 0, 0, 0, 0, 0, 0, 0, 0,\n",
            "       0, 0, 0, 0, 0, 0, 0, 0, 0, 0, 0, 0, 0, 0, 0, 0, 0, 0, 0, 0, 0, 0,\n",
            "       0, 0, 0, 0, 0, 0, 0, 0, 0, 0, 0, 0, 0, 0, 0, 0, 0, 0, 0, 0, 0, 0,\n",
            "       0, 0, 0, 0, 0, 0, 0, 0, 0, 0, 0, 0, 0, 0, 0, 0, 0, 0, 0, 0, 0, 0,\n",
            "       0, 0, 0, 0, 0, 0, 0, 0, 0, 0, 0, 0, 0, 0, 0, 0, 0, 0, 0, 0, 0, 0,\n",
            "       0, 0, 0, 0, 0, 0, 0, 0, 0, 0, 0, 0, 0, 0, 0, 0, 0, 0, 0, 0, 0, 0,\n",
            "       0, 0, 0, 0, 0, 0, 0, 0, 0, 0, 0, 0, 0, 0, 0, 0, 0, 0, 0, 0, 0, 0,\n",
            "       0, 0, 0, 0, 0, 0, 0, 0, 0, 0, 0, 0, 0, 0, 0, 0, 0, 0, 0, 0, 0, 0,\n",
            "       0, 0, 0, 0, 0, 0, 0, 0, 0, 0, 0, 0, 0, 0, 0, 0, 0, 0, 0, 0, 0, 0,\n",
            "       0, 0, 0, 0, 0, 0, 0, 0, 0, 0, 0, 0, 0, 0, 0, 0, 0, 0, 0, 0, 0, 0,\n",
            "       0, 0, 0, 0, 0, 0, 0, 0, 0, 0, 0, 0, 0, 0, 0, 0, 0, 0, 0, 0, 0, 0,\n",
            "       0, 0, 0, 0, 0, 0, 0, 0, 0, 0, 0, 0, 0, 0, 0, 0, 0, 0, 0, 0, 0, 0,\n",
            "       0])>, <tf.Tensor: shape=(3,), dtype=float32, numpy=array([0., 1., 0.], dtype=float32)>)\n"
          ]
        }
      ],
      "source": [
        "for i in dataset.take(1):\n",
        "  print(i)"
      ]
    },
    {
      "cell_type": "code",
      "execution_count": 67,
      "metadata": {
        "id": "rkMt_VDNS0CO"
      },
      "outputs": [],
      "source": [
        "def map_change_dataset(input_ids, attention_mask, labels):\n",
        "  return {'input_ids':input_ids, 'attention_mask': attention_mask}, labels"
      ]
    },
    {
      "cell_type": "code",
      "execution_count": 68,
      "metadata": {
        "id": "A4qUHAr0Th9t"
      },
      "outputs": [],
      "source": [
        "dataset = dataset.map(map_change_dataset)"
      ]
    },
    {
      "cell_type": "code",
      "source": [
        "# for test\n",
        "dataset_test = dataset_test.map(map_change_dataset)"
      ],
      "metadata": {
        "id": "g0Kt3pVjRnmv"
      },
      "execution_count": 69,
      "outputs": []
    },
    {
      "cell_type": "code",
      "execution_count": 70,
      "metadata": {
        "colab": {
          "base_uri": "https://localhost:8080/"
        },
        "id": "_jeCAPhgTq3N",
        "outputId": "54860cab-b486-428a-85cd-dffa5c968e7a"
      },
      "outputs": [
        {
          "output_type": "stream",
          "name": "stdout",
          "text": [
            "({'input_ids': <tf.Tensor: shape=(837,), dtype=int64, numpy=\n",
            "array([  101, 10440,  2543,  1859,  1110,  1115,   170,  1910,  1144,\n",
            "        1136,  1178,  1500,  1143,  1133,   146,  1138,  9491,  1293,\n",
            "        1277,  3294, 15113,  1144, 21495,  1123,  1111,  1103,  1618,\n",
            "        1153,  1110,  1136,  1112,  2191,  9701,  1112,  1131,  1215,\n",
            "        1106,  1129,  1496,  1106,  1103,  1864,  1115,  1131,  1144,\n",
            "        4690,  1304,  1215,  1106,  1217,  6062,  1107,  1123,  1319,\n",
            "        2241,  1105,  1136,  1515,  1106,  5113,  1106,  1168,  7983,\n",
            "       11089,  1130,  1278,  1131,  1108,   170,   140,  1105,  5411,\n",
            "         170,   141,  2377,  1272,  1131,  1108,  1579,  2128,  1705,\n",
            "        1106,  1301,  2936,  1114, 23550,  1116,  1164,  1293,  1234,\n",
            "        1156,  1294, 13948,  1164,  1123,  1105,  4932,  4454,  1120,\n",
            "        1123,  1272,  1131,  1350,  1472,  1105,  1108, 14223,  1967,\n",
            "        1131,  6759,  1106,  3294, 15113,  1131,  1110,  1208,  1126,\n",
            "         138,  1105,   139,  2377,  7282,  1131,  1110,  1164,  1106,\n",
            "        4469,  1105,  1243,  1123, 14985,  1114,   170,  1476, 15175,\n",
            "        1592,  1409,  1131,  1225,  1136,  6878,  1106,  3294, 15113,\n",
            "        1156,  1131,  1129,  1107,  1142,  2820,  1208,   102,     0,\n",
            "           0,     0,     0,     0,     0,     0,     0,     0,     0,\n",
            "           0,     0,     0,     0,     0,     0,     0,     0,     0,\n",
            "           0,     0,     0,     0,     0,     0,     0,     0,     0,\n",
            "           0,     0,     0,     0,     0,     0,     0,     0,     0,\n",
            "           0,     0,     0,     0,     0,     0,     0,     0,     0,\n",
            "           0,     0,     0,     0,     0,     0,     0,     0,     0,\n",
            "           0,     0,     0,     0,     0,     0,     0,     0,     0,\n",
            "           0,     0,     0,     0,     0,     0,     0,     0,     0,\n",
            "           0,     0,     0,     0,     0,     0,     0,     0,     0,\n",
            "           0,     0,     0,     0,     0,     0,     0,     0,     0,\n",
            "           0,     0,     0,     0,     0,     0,     0,     0,     0,\n",
            "           0,     0,     0,     0,     0,     0,     0,     0,     0,\n",
            "           0,     0,     0,     0,     0,     0,     0,     0,     0,\n",
            "           0,     0,     0,     0,     0,     0,     0,     0,     0,\n",
            "           0,     0,     0,     0,     0,     0,     0,     0,     0,\n",
            "           0,     0,     0,     0,     0,     0,     0,     0,     0,\n",
            "           0,     0,     0,     0,     0,     0,     0,     0,     0,\n",
            "           0,     0,     0,     0,     0,     0,     0,     0,     0,\n",
            "           0,     0,     0,     0,     0,     0,     0,     0,     0,\n",
            "           0,     0,     0,     0,     0,     0,     0,     0,     0,\n",
            "           0,     0,     0,     0,     0,     0,     0,     0,     0,\n",
            "           0,     0,     0,     0,     0,     0,     0,     0,     0,\n",
            "           0,     0,     0,     0,     0,     0,     0,     0,     0,\n",
            "           0,     0,     0,     0,     0,     0,     0,     0,     0,\n",
            "           0,     0,     0,     0,     0,     0,     0,     0,     0,\n",
            "           0,     0,     0,     0,     0,     0,     0,     0,     0,\n",
            "           0,     0,     0,     0,     0,     0,     0,     0,     0,\n",
            "           0,     0,     0,     0,     0,     0,     0,     0,     0,\n",
            "           0,     0,     0,     0,     0,     0,     0,     0,     0,\n",
            "           0,     0,     0,     0,     0,     0,     0,     0,     0,\n",
            "           0,     0,     0,     0,     0,     0,     0,     0,     0,\n",
            "           0,     0,     0,     0,     0,     0,     0,     0,     0,\n",
            "           0,     0,     0,     0,     0,     0,     0,     0,     0,\n",
            "           0,     0,     0,     0,     0,     0,     0,     0,     0,\n",
            "           0,     0,     0,     0,     0,     0,     0,     0,     0,\n",
            "           0,     0,     0,     0,     0,     0,     0,     0,     0,\n",
            "           0,     0,     0,     0,     0,     0,     0,     0,     0,\n",
            "           0,     0,     0,     0,     0,     0,     0,     0,     0,\n",
            "           0,     0,     0,     0,     0,     0,     0,     0,     0,\n",
            "           0,     0,     0,     0,     0,     0,     0,     0,     0,\n",
            "           0,     0,     0,     0,     0,     0,     0,     0,     0,\n",
            "           0,     0,     0,     0,     0,     0,     0,     0,     0,\n",
            "           0,     0,     0,     0,     0,     0,     0,     0,     0,\n",
            "           0,     0,     0,     0,     0,     0,     0,     0,     0,\n",
            "           0,     0,     0,     0,     0,     0,     0,     0,     0,\n",
            "           0,     0,     0,     0,     0,     0,     0,     0,     0,\n",
            "           0,     0,     0,     0,     0,     0,     0,     0,     0,\n",
            "           0,     0,     0,     0,     0,     0,     0,     0,     0,\n",
            "           0,     0,     0,     0,     0,     0,     0,     0,     0,\n",
            "           0,     0,     0,     0,     0,     0,     0,     0,     0,\n",
            "           0,     0,     0,     0,     0,     0,     0,     0,     0,\n",
            "           0,     0,     0,     0,     0,     0,     0,     0,     0,\n",
            "           0,     0,     0,     0,     0,     0,     0,     0,     0,\n",
            "           0,     0,     0,     0,     0,     0,     0,     0,     0,\n",
            "           0,     0,     0,     0,     0,     0,     0,     0,     0,\n",
            "           0,     0,     0,     0,     0,     0,     0,     0,     0,\n",
            "           0,     0,     0,     0,     0,     0,     0,     0,     0,\n",
            "           0,     0,     0,     0,     0,     0,     0,     0,     0,\n",
            "           0,     0,     0,     0,     0,     0,     0,     0,     0,\n",
            "           0,     0,     0,     0,     0,     0,     0,     0,     0,\n",
            "           0,     0,     0,     0,     0,     0,     0,     0,     0,\n",
            "           0,     0,     0,     0,     0,     0,     0,     0,     0,\n",
            "           0,     0,     0,     0,     0,     0,     0,     0,     0,\n",
            "           0,     0,     0,     0,     0,     0,     0,     0,     0,\n",
            "           0,     0,     0,     0,     0,     0,     0,     0,     0,\n",
            "           0,     0,     0,     0,     0,     0,     0,     0,     0,\n",
            "           0,     0,     0,     0,     0,     0,     0,     0,     0,\n",
            "           0,     0,     0,     0,     0,     0,     0,     0,     0,\n",
            "           0,     0,     0,     0,     0,     0,     0,     0,     0,\n",
            "           0,     0,     0,     0,     0,     0,     0,     0,     0,\n",
            "           0,     0,     0,     0,     0,     0,     0,     0,     0,\n",
            "           0,     0,     0,     0,     0,     0,     0,     0,     0,\n",
            "           0,     0,     0,     0,     0,     0,     0,     0,     0,\n",
            "           0,     0,     0,     0,     0,     0,     0,     0,     0,\n",
            "           0,     0,     0,     0,     0,     0,     0,     0,     0,\n",
            "           0,     0,     0,     0,     0,     0,     0,     0,     0])>, 'attention_mask': <tf.Tensor: shape=(837,), dtype=int64, numpy=\n",
            "array([1, 1, 1, 1, 1, 1, 1, 1, 1, 1, 1, 1, 1, 1, 1, 1, 1, 1, 1, 1, 1, 1,\n",
            "       1, 1, 1, 1, 1, 1, 1, 1, 1, 1, 1, 1, 1, 1, 1, 1, 1, 1, 1, 1, 1, 1,\n",
            "       1, 1, 1, 1, 1, 1, 1, 1, 1, 1, 1, 1, 1, 1, 1, 1, 1, 1, 1, 1, 1, 1,\n",
            "       1, 1, 1, 1, 1, 1, 1, 1, 1, 1, 1, 1, 1, 1, 1, 1, 1, 1, 1, 1, 1, 1,\n",
            "       1, 1, 1, 1, 1, 1, 1, 1, 1, 1, 1, 1, 1, 1, 1, 1, 1, 1, 1, 1, 1, 1,\n",
            "       1, 1, 1, 1, 1, 1, 1, 1, 1, 1, 1, 1, 1, 1, 1, 1, 1, 1, 1, 1, 1, 1,\n",
            "       1, 1, 1, 1, 1, 1, 1, 1, 1, 1, 1, 1, 1, 1, 1, 1, 1, 1, 1, 1, 0, 0,\n",
            "       0, 0, 0, 0, 0, 0, 0, 0, 0, 0, 0, 0, 0, 0, 0, 0, 0, 0, 0, 0, 0, 0,\n",
            "       0, 0, 0, 0, 0, 0, 0, 0, 0, 0, 0, 0, 0, 0, 0, 0, 0, 0, 0, 0, 0, 0,\n",
            "       0, 0, 0, 0, 0, 0, 0, 0, 0, 0, 0, 0, 0, 0, 0, 0, 0, 0, 0, 0, 0, 0,\n",
            "       0, 0, 0, 0, 0, 0, 0, 0, 0, 0, 0, 0, 0, 0, 0, 0, 0, 0, 0, 0, 0, 0,\n",
            "       0, 0, 0, 0, 0, 0, 0, 0, 0, 0, 0, 0, 0, 0, 0, 0, 0, 0, 0, 0, 0, 0,\n",
            "       0, 0, 0, 0, 0, 0, 0, 0, 0, 0, 0, 0, 0, 0, 0, 0, 0, 0, 0, 0, 0, 0,\n",
            "       0, 0, 0, 0, 0, 0, 0, 0, 0, 0, 0, 0, 0, 0, 0, 0, 0, 0, 0, 0, 0, 0,\n",
            "       0, 0, 0, 0, 0, 0, 0, 0, 0, 0, 0, 0, 0, 0, 0, 0, 0, 0, 0, 0, 0, 0,\n",
            "       0, 0, 0, 0, 0, 0, 0, 0, 0, 0, 0, 0, 0, 0, 0, 0, 0, 0, 0, 0, 0, 0,\n",
            "       0, 0, 0, 0, 0, 0, 0, 0, 0, 0, 0, 0, 0, 0, 0, 0, 0, 0, 0, 0, 0, 0,\n",
            "       0, 0, 0, 0, 0, 0, 0, 0, 0, 0, 0, 0, 0, 0, 0, 0, 0, 0, 0, 0, 0, 0,\n",
            "       0, 0, 0, 0, 0, 0, 0, 0, 0, 0, 0, 0, 0, 0, 0, 0, 0, 0, 0, 0, 0, 0,\n",
            "       0, 0, 0, 0, 0, 0, 0, 0, 0, 0, 0, 0, 0, 0, 0, 0, 0, 0, 0, 0, 0, 0,\n",
            "       0, 0, 0, 0, 0, 0, 0, 0, 0, 0, 0, 0, 0, 0, 0, 0, 0, 0, 0, 0, 0, 0,\n",
            "       0, 0, 0, 0, 0, 0, 0, 0, 0, 0, 0, 0, 0, 0, 0, 0, 0, 0, 0, 0, 0, 0,\n",
            "       0, 0, 0, 0, 0, 0, 0, 0, 0, 0, 0, 0, 0, 0, 0, 0, 0, 0, 0, 0, 0, 0,\n",
            "       0, 0, 0, 0, 0, 0, 0, 0, 0, 0, 0, 0, 0, 0, 0, 0, 0, 0, 0, 0, 0, 0,\n",
            "       0, 0, 0, 0, 0, 0, 0, 0, 0, 0, 0, 0, 0, 0, 0, 0, 0, 0, 0, 0, 0, 0,\n",
            "       0, 0, 0, 0, 0, 0, 0, 0, 0, 0, 0, 0, 0, 0, 0, 0, 0, 0, 0, 0, 0, 0,\n",
            "       0, 0, 0, 0, 0, 0, 0, 0, 0, 0, 0, 0, 0, 0, 0, 0, 0, 0, 0, 0, 0, 0,\n",
            "       0, 0, 0, 0, 0, 0, 0, 0, 0, 0, 0, 0, 0, 0, 0, 0, 0, 0, 0, 0, 0, 0,\n",
            "       0, 0, 0, 0, 0, 0, 0, 0, 0, 0, 0, 0, 0, 0, 0, 0, 0, 0, 0, 0, 0, 0,\n",
            "       0, 0, 0, 0, 0, 0, 0, 0, 0, 0, 0, 0, 0, 0, 0, 0, 0, 0, 0, 0, 0, 0,\n",
            "       0, 0, 0, 0, 0, 0, 0, 0, 0, 0, 0, 0, 0, 0, 0, 0, 0, 0, 0, 0, 0, 0,\n",
            "       0, 0, 0, 0, 0, 0, 0, 0, 0, 0, 0, 0, 0, 0, 0, 0, 0, 0, 0, 0, 0, 0,\n",
            "       0, 0, 0, 0, 0, 0, 0, 0, 0, 0, 0, 0, 0, 0, 0, 0, 0, 0, 0, 0, 0, 0,\n",
            "       0, 0, 0, 0, 0, 0, 0, 0, 0, 0, 0, 0, 0, 0, 0, 0, 0, 0, 0, 0, 0, 0,\n",
            "       0, 0, 0, 0, 0, 0, 0, 0, 0, 0, 0, 0, 0, 0, 0, 0, 0, 0, 0, 0, 0, 0,\n",
            "       0, 0, 0, 0, 0, 0, 0, 0, 0, 0, 0, 0, 0, 0, 0, 0, 0, 0, 0, 0, 0, 0,\n",
            "       0, 0, 0, 0, 0, 0, 0, 0, 0, 0, 0, 0, 0, 0, 0, 0, 0, 0, 0, 0, 0, 0,\n",
            "       0, 0, 0, 0, 0, 0, 0, 0, 0, 0, 0, 0, 0, 0, 0, 0, 0, 0, 0, 0, 0, 0,\n",
            "       0])>}, <tf.Tensor: shape=(3,), dtype=float32, numpy=array([0., 1., 0.], dtype=float32)>)\n"
          ]
        }
      ],
      "source": [
        "for i in dataset.take(1):\n",
        "  print(i)"
      ]
    },
    {
      "cell_type": "code",
      "execution_count": 71,
      "metadata": {
        "id": "OoKitT7rT1Le"
      },
      "outputs": [],
      "source": [
        "dataset = dataset.shuffle(500000).batch(84)"
      ]
    },
    {
      "cell_type": "code",
      "source": [
        "# for test\n",
        "dataset_test = dataset_test.shuffle(500000).batch(84)"
      ],
      "metadata": {
        "id": "RSuMVgXbS9sR"
      },
      "execution_count": 72,
      "outputs": []
    },
    {
      "cell_type": "markdown",
      "source": [
        "#Split Data Train into (train, validation):\n",
        "training 80% for training\n",
        "\n",
        "test 20% for test"
      ],
      "metadata": {
        "id": "yE-Xvlu8XRrl"
      }
    },
    {
      "cell_type": "code",
      "execution_count": 73,
      "metadata": {
        "id": "puLoZkUwUe39"
      },
      "outputs": [],
      "source": [
        "training_split = 0.8\n",
        "dataset_len = len(list(dataset))"
      ]
    },
    {
      "cell_type": "code",
      "execution_count": 74,
      "metadata": {
        "id": "Wwy0rrhuUly-"
      },
      "outputs": [],
      "source": [
        "data_train = dataset.take(round(training_split*dataset_len))\n",
        "data_valid = dataset.skip(round(training_split*dataset_len))"
      ]
    },
    {
      "cell_type": "markdown",
      "source": [
        "# Transformers using Bert Model"
      ],
      "metadata": {
        "id": "twIzJFk_Xjhp"
      }
    },
    {
      "cell_type": "code",
      "execution_count": 78,
      "metadata": {
        "colab": {
          "base_uri": "https://localhost:8080/",
          "height": 156,
          "referenced_widgets": [
            "b3d8b99fd64f46e7a62740250381cac9",
            "8d35c3feb5a14fbeb1bdc36f3bf60f1e",
            "04f91b0e285640f48d011d537a3b8019",
            "537dac7fc42649fabde43d3b7da77534",
            "bd2f2ba0550a4a8e82887aacac190db7",
            "e4ed960bb43345679df19811ad34da33",
            "12073c773d1e4e0f8fda5b84ee85f593",
            "b2997b610d8c4bcc80e507b5edab2482",
            "f9e5e7bd5c2a4f92abea6b206aadedb9",
            "75e8a708018544359e5d150cb355ace2",
            "972e4ca6033248cfa27722a5c18e3199"
          ]
        },
        "id": "1QmhQcOuW27t",
        "outputId": "8a4e5e77-2e5f-4cee-90b6-0ef26f3c6592"
      },
      "outputs": [
        {
          "output_type": "display_data",
          "data": {
            "text/plain": [
              "Downloading tf_model.h5:   0%|          | 0.00/502M [00:00<?, ?B/s]"
            ],
            "application/vnd.jupyter.widget-view+json": {
              "version_major": 2,
              "version_minor": 0,
              "model_id": "b3d8b99fd64f46e7a62740250381cac9"
            }
          },
          "metadata": {}
        },
        {
          "output_type": "stream",
          "name": "stderr",
          "text": [
            "Some layers from the model checkpoint at bert-base-cased were not used when initializing TFBertModel: ['nsp___cls', 'mlm___cls']\n",
            "- This IS expected if you are initializing TFBertModel from the checkpoint of a model trained on another task or with another architecture (e.g. initializing a BertForSequenceClassification model from a BertForPreTraining model).\n",
            "- This IS NOT expected if you are initializing TFBertModel from the checkpoint of a model that you expect to be exactly identical (initializing a BertForSequenceClassification model from a BertForSequenceClassification model).\n",
            "All the layers of TFBertModel were initialized from the model checkpoint at bert-base-cased.\n",
            "If your task is similar to the task the model of the checkpoint was trained on, you can already use TFBertModel for predictions without further training.\n"
          ]
        }
      ],
      "source": [
        "from transformers import TFBertModel\n",
        "bert = TFBertModel.from_pretrained('bert-base-cased')"
      ]
    },
    {
      "cell_type": "code",
      "execution_count": 71,
      "metadata": {
        "id": "Dw6swu_iYWQe"
      },
      "outputs": [],
      "source": [
        "input_ids_m = tf.keras.layers.Input(shape = (SEQ_LEN, ), name = \"input_ids\", dtype = 'int32')\n",
        "attention_mask_n = tf.keras.layers.Input(shape = (SEQ_LEN, ), name = \"attention_mask\", dtype = 'int32')\n",
        "bert_m = bert(input_ids_m, attention_mask = attention_mask_n)[0]\n",
        "x = tf.keras.layers.LSTM(128, return_sequences= True)(bert_m)\n",
        "x1 = tf.keras.layers.GlobalAveragePooling1D()(x)\n",
        "x2 = tf.keras.layers.GlobalMaxPool1D()(x)\n",
        "x = tf.keras.layers.concatenate([x1, x2])\n",
        "x = tf.keras.layers.Dense(128, activation = \"relu\")(x)\n",
        "x = tf.keras.layers.Dropout(0.2)(x)\n",
        "y = tf.keras.layers.Dense(len(classes_names), activation = \"softmax\")(x)\n",
        "\n",
        "m = tf.keras.models.Model(inputs = [input_ids_m, attention_mask_n], outputs = y)"
      ]
    },
    {
      "cell_type": "code",
      "execution_count": 72,
      "metadata": {
        "colab": {
          "base_uri": "https://localhost:8080/"
        },
        "id": "KCBM0mzQ8gXr",
        "outputId": "310222a7-09ee-42b3-90b6-7a67f2b9f1f8"
      },
      "outputs": [
        {
          "output_type": "execute_result",
          "data": {
            "text/plain": [
              "TensorShape([None, 837, 768])"
            ]
          },
          "metadata": {},
          "execution_count": 72
        }
      ],
      "source": [
        "bert_m.shape"
      ]
    },
    {
      "cell_type": "code",
      "execution_count": 73,
      "metadata": {
        "id": "kKXAN3dWeCHG"
      },
      "outputs": [],
      "source": [
        "m.layers[2].trainable = False"
      ]
    },
    {
      "cell_type": "code",
      "execution_count": 74,
      "metadata": {
        "colab": {
          "base_uri": "https://localhost:8080/"
        },
        "id": "hoX3goPteLlm",
        "outputId": "18db1603-edbc-4d73-ab11-97c5909901ea"
      },
      "outputs": [
        {
          "output_type": "stream",
          "name": "stdout",
          "text": [
            "Model: \"model_3\"\n",
            "__________________________________________________________________________________________________\n",
            " Layer (type)                   Output Shape         Param #     Connected to                     \n",
            "==================================================================================================\n",
            " input_ids (InputLayer)         [(None, 837)]        0           []                               \n",
            "                                                                                                  \n",
            " attention_mask (InputLayer)    [(None, 837)]        0           []                               \n",
            "                                                                                                  \n",
            " tf_bert_model (TFBertModel)    TFBaseModelOutputWi  108310272   ['input_ids[0][0]',              \n",
            "                                thPoolingAndCrossAt               'attention_mask[0][0]']         \n",
            "                                tentions(last_hidde                                               \n",
            "                                n_state=(None, 837,                                               \n",
            "                                 768),                                                            \n",
            "                                 pooler_output=(Non                                               \n",
            "                                e, 768),                                                          \n",
            "                                 past_key_values=No                                               \n",
            "                                ne, hidden_states=N                                               \n",
            "                                one, attentions=Non                                               \n",
            "                                e, cross_attentions                                               \n",
            "                                =None)                                                            \n",
            "                                                                                                  \n",
            " lstm_2 (LSTM)                  (None, 837, 128)     459264      ['tf_bert_model[3][0]']          \n",
            "                                                                                                  \n",
            " global_average_pooling1d_3 (Gl  (None, 128)         0           ['lstm_2[0][0]']                 \n",
            " obalAveragePooling1D)                                                                            \n",
            "                                                                                                  \n",
            " global_max_pooling1d_3 (Global  (None, 128)         0           ['lstm_2[0][0]']                 \n",
            " MaxPooling1D)                                                                                    \n",
            "                                                                                                  \n",
            " concatenate_3 (Concatenate)    (None, 256)          0           ['global_average_pooling1d_3[0][0\n",
            "                                                                 ]',                              \n",
            "                                                                  'global_max_pooling1d_3[0][0]'] \n",
            "                                                                                                  \n",
            " dense_3 (Dense)                (None, 128)          32896       ['concatenate_3[0][0]']          \n",
            "                                                                                                  \n",
            " dropout_40 (Dropout)           (None, 128)          0           ['dense_3[0][0]']                \n",
            "                                                                                                  \n",
            " dense_4 (Dense)                (None, 3)            387         ['dropout_40[0][0]']             \n",
            "                                                                                                  \n",
            "==================================================================================================\n",
            "Total params: 108,802,819\n",
            "Trainable params: 492,547\n",
            "Non-trainable params: 108,310,272\n",
            "__________________________________________________________________________________________________\n"
          ]
        }
      ],
      "source": [
        "m.summary()"
      ]
    },
    {
      "cell_type": "code",
      "execution_count": 75,
      "metadata": {
        "id": "Bm2OrEJxxunp"
      },
      "outputs": [],
      "source": [
        "m.compile(loss=\"categorical_crossentropy\",optimizer= \"adam\",metrics=[\n",
        "    tf.keras.metrics.CategoricalAccuracy(\"accuracy\"),\n",
        "    TruePositives(name='tp'), \n",
        "    FalsePositives(name='fp'), \n",
        "    TrueNegatives(name='tn'), \n",
        "    FalseNegatives(name='fn'),\n",
        "    Precision(name='precision'), \n",
        "    Recall(name='recall')\n",
        "])"
      ]
    },
    {
      "cell_type": "code",
      "execution_count": 76,
      "metadata": {
        "id": "xiXVomOdxzvA"
      },
      "outputs": [],
      "source": [
        "from keras.callbacks import TensorBoard, EarlyStopping\n",
        "earlyStopping = EarlyStopping(monitor = 'loss', patience = 5, mode = 'min', restore_best_weights = True)"
      ]
    },
    {
      "cell_type": "code",
      "execution_count": 78,
      "metadata": {
        "colab": {
          "base_uri": "https://localhost:8080/"
        },
        "id": "3VWm2QOmx2ZY",
        "outputId": "23de3080-17c9-489d-e463-835c5c25febc"
      },
      "outputs": [
        {
          "output_type": "stream",
          "name": "stdout",
          "text": [
            "Epoch 1/42\n",
            "350/350 [==============================] - 1556s 4s/step - loss: 0.7669 - accuracy: 0.6589 - tp: 18442.0000 - fp: 8985.0000 - tn: 49815.0000 - fn: 10958.0000 - precision: 0.6724 - recall: 0.6273\n",
            "Epoch 2/42\n",
            "350/350 [==============================] - 1555s 4s/step - loss: 0.7438 - accuracy: 0.6684 - tp: 18813.0000 - fp: 8873.0000 - tn: 49927.0000 - fn: 10587.0000 - precision: 0.6795 - recall: 0.6399\n",
            "Epoch 3/42\n",
            "350/350 [==============================] - 1555s 4s/step - loss: 0.7310 - accuracy: 0.6724 - tp: 18963.0000 - fp: 8758.0000 - tn: 50042.0000 - fn: 10437.0000 - precision: 0.6841 - recall: 0.6450\n",
            "Epoch 4/42\n",
            "350/350 [==============================] - 1555s 4s/step - loss: 0.7119 - accuracy: 0.6807 - tp: 19228.0000 - fp: 8502.0000 - tn: 50298.0000 - fn: 10172.0000 - precision: 0.6934 - recall: 0.6540\n",
            "Epoch 5/42\n",
            "350/350 [==============================] - 1555s 4s/step - loss: 0.6961 - accuracy: 0.6899 - tp: 19575.0000 - fp: 8288.0000 - tn: 50512.0000 - fn: 9825.0000 - precision: 0.7025 - recall: 0.6658\n",
            "Epoch 6/42\n",
            "350/350 [==============================] - 1555s 4s/step - loss: 0.6722 - accuracy: 0.7007 - tp: 19884.0000 - fp: 8016.0000 - tn: 50784.0000 - fn: 9516.0000 - precision: 0.7127 - recall: 0.6763\n",
            "Epoch 7/42\n",
            "350/350 [==============================] - 1556s 4s/step - loss: 0.6490 - accuracy: 0.7107 - tp: 20284.0000 - fp: 7773.0000 - tn: 51027.0000 - fn: 9116.0000 - precision: 0.7230 - recall: 0.6899\n",
            "Epoch 8/42\n",
            "350/350 [==============================] - 1554s 4s/step - loss: 0.6266 - accuracy: 0.7217 - tp: 20603.0000 - fp: 7528.0000 - tn: 51272.0000 - fn: 8797.0000 - precision: 0.7324 - recall: 0.7008\n",
            "Epoch 9/42\n",
            "350/350 [==============================] - 1554s 4s/step - loss: 0.6001 - accuracy: 0.7378 - tp: 21119.0000 - fp: 7090.0000 - tn: 51710.0000 - fn: 8281.0000 - precision: 0.7487 - recall: 0.7183\n",
            "Epoch 10/42\n",
            "350/350 [==============================] - 1554s 4s/step - loss: 0.5821 - accuracy: 0.7455 - tp: 21379.0000 - fp: 6927.0000 - tn: 51873.0000 - fn: 8021.0000 - precision: 0.7553 - recall: 0.7272\n",
            "Epoch 11/42\n",
            "350/350 [==============================] - 1554s 4s/step - loss: 0.5571 - accuracy: 0.7543 - tp: 21738.0000 - fp: 6654.0000 - tn: 52146.0000 - fn: 7662.0000 - precision: 0.7656 - recall: 0.7394\n",
            "Epoch 12/42\n",
            "350/350 [==============================] - 1555s 4s/step - loss: 0.5299 - accuracy: 0.7715 - tp: 22263.0000 - fp: 6200.0000 - tn: 52600.0000 - fn: 7137.0000 - precision: 0.7822 - recall: 0.7572\n",
            "Epoch 13/42\n",
            "350/350 [==============================] - 1554s 4s/step - loss: 0.5083 - accuracy: 0.7795 - tp: 22498.0000 - fp: 6005.0000 - tn: 52795.0000 - fn: 6902.0000 - precision: 0.7893 - recall: 0.7652\n",
            "Epoch 14/42\n",
            "350/350 [==============================] - 1556s 4s/step - loss: 0.4862 - accuracy: 0.7923 - tp: 22906.0000 - fp: 5686.0000 - tn: 53114.0000 - fn: 6494.0000 - precision: 0.8011 - recall: 0.7791\n",
            "Epoch 15/42\n",
            "350/350 [==============================] - 1555s 4s/step - loss: 0.4622 - accuracy: 0.8028 - tp: 23256.0000 - fp: 5421.0000 - tn: 53379.0000 - fn: 6144.0000 - precision: 0.8110 - recall: 0.7910\n",
            "Epoch 16/42\n",
            "350/350 [==============================] - 1555s 4s/step - loss: 0.4353 - accuracy: 0.8130 - tp: 23638.0000 - fp: 5151.0000 - tn: 53649.0000 - fn: 5762.0000 - precision: 0.8211 - recall: 0.8040\n",
            "Epoch 17/42\n",
            "350/350 [==============================] - 1553s 4s/step - loss: 0.4177 - accuracy: 0.8245 - tp: 24024.0000 - fp: 4897.0000 - tn: 53903.0000 - fn: 5376.0000 - precision: 0.8307 - recall: 0.8171\n",
            "Epoch 18/42\n",
            "350/350 [==============================] - 1554s 4s/step - loss: 0.4054 - accuracy: 0.8278 - tp: 24123.0000 - fp: 4764.0000 - tn: 54036.0000 - fn: 5277.0000 - precision: 0.8351 - recall: 0.8205\n",
            "Epoch 19/42\n",
            "350/350 [==============================] - 1554s 4s/step - loss: 0.3845 - accuracy: 0.8411 - tp: 24506.0000 - fp: 4434.0000 - tn: 54366.0000 - fn: 4894.0000 - precision: 0.8468 - recall: 0.8335\n",
            "Epoch 20/42\n",
            "350/350 [==============================] - 1554s 4s/step - loss: 0.3695 - accuracy: 0.8457 - tp: 24688.0000 - fp: 4316.0000 - tn: 54484.0000 - fn: 4712.0000 - precision: 0.8512 - recall: 0.8397\n",
            "Epoch 21/42\n",
            "350/350 [==============================] - 1554s 4s/step - loss: 0.3538 - accuracy: 0.8544 - tp: 24948.0000 - fp: 4061.0000 - tn: 54739.0000 - fn: 4452.0000 - precision: 0.8600 - recall: 0.8486\n",
            "Epoch 22/42\n",
            "350/350 [==============================] - 1555s 4s/step - loss: 0.3485 - accuracy: 0.8563 - tp: 24980.0000 - fp: 4007.0000 - tn: 54793.0000 - fn: 4420.0000 - precision: 0.8618 - recall: 0.8497\n",
            "Epoch 23/42\n",
            "350/350 [==============================] - 1555s 4s/step - loss: 0.3297 - accuracy: 0.8652 - tp: 25287.0000 - fp: 3783.0000 - tn: 55017.0000 - fn: 4113.0000 - precision: 0.8699 - recall: 0.8601\n",
            "Epoch 24/42\n",
            "350/350 [==============================] - 1555s 4s/step - loss: 0.3149 - accuracy: 0.8715 - tp: 25473.0000 - fp: 3620.0000 - tn: 55180.0000 - fn: 3927.0000 - precision: 0.8756 - recall: 0.8664\n",
            "Epoch 25/42\n",
            "350/350 [==============================] - 1555s 4s/step - loss: 0.3025 - accuracy: 0.8772 - tp: 25640.0000 - fp: 3474.0000 - tn: 55326.0000 - fn: 3760.0000 - precision: 0.8807 - recall: 0.8721\n",
            "Epoch 26/42\n",
            "350/350 [==============================] - 1555s 4s/step - loss: 0.2973 - accuracy: 0.8808 - tp: 25757.0000 - fp: 3364.0000 - tn: 55436.0000 - fn: 3643.0000 - precision: 0.8845 - recall: 0.8761\n",
            "Epoch 27/42\n",
            "350/350 [==============================] - 1555s 4s/step - loss: 0.2891 - accuracy: 0.8844 - tp: 25891.0000 - fp: 3249.0000 - tn: 55551.0000 - fn: 3509.0000 - precision: 0.8885 - recall: 0.8806\n",
            "Epoch 28/42\n",
            "350/350 [==============================] - 1555s 4s/step - loss: 0.2855 - accuracy: 0.8848 - tp: 25895.0000 - fp: 3264.0000 - tn: 55536.0000 - fn: 3505.0000 - precision: 0.8881 - recall: 0.8808\n",
            "Epoch 29/42\n",
            "350/350 [==============================] - 1555s 4s/step - loss: 0.2706 - accuracy: 0.8935 - tp: 26151.0000 - fp: 3004.0000 - tn: 55796.0000 - fn: 3249.0000 - precision: 0.8970 - recall: 0.8895\n",
            "Epoch 30/42\n",
            "350/350 [==============================] - 1555s 4s/step - loss: 0.2657 - accuracy: 0.8915 - tp: 26105.0000 - fp: 3054.0000 - tn: 55746.0000 - fn: 3295.0000 - precision: 0.8953 - recall: 0.8879\n",
            "Epoch 31/42\n",
            "350/350 [==============================] - 1555s 4s/step - loss: 0.2586 - accuracy: 0.8961 - tp: 26251.0000 - fp: 2948.0000 - tn: 55852.0000 - fn: 3149.0000 - precision: 0.8990 - recall: 0.8929\n",
            "Epoch 32/42\n",
            "350/350 [==============================] - 1555s 4s/step - loss: 0.2496 - accuracy: 0.9003 - tp: 26379.0000 - fp: 2826.0000 - tn: 55974.0000 - fn: 3021.0000 - precision: 0.9032 - recall: 0.8972\n",
            "Epoch 33/42\n",
            "350/350 [==============================] - 1555s 4s/step - loss: 0.2446 - accuracy: 0.9033 - tp: 26461.0000 - fp: 2746.0000 - tn: 56054.0000 - fn: 2939.0000 - precision: 0.9060 - recall: 0.9000\n",
            "Epoch 34/42\n",
            "350/350 [==============================] - 1555s 4s/step - loss: 0.2381 - accuracy: 0.9054 - tp: 26546.0000 - fp: 2667.0000 - tn: 56133.0000 - fn: 2854.0000 - precision: 0.9087 - recall: 0.9029\n",
            "Epoch 35/42\n",
            "350/350 [==============================] - 1555s 4s/step - loss: 0.2337 - accuracy: 0.9078 - tp: 26608.0000 - fp: 2625.0000 - tn: 56175.0000 - fn: 2792.0000 - precision: 0.9102 - recall: 0.9050\n",
            "Epoch 36/42\n",
            "350/350 [==============================] - 1555s 4s/step - loss: 0.2290 - accuracy: 0.9085 - tp: 26635.0000 - fp: 2606.0000 - tn: 56194.0000 - fn: 2765.0000 - precision: 0.9109 - recall: 0.9060\n",
            "Epoch 37/42\n",
            "350/350 [==============================] - 1555s 4s/step - loss: 0.2236 - accuracy: 0.9119 - tp: 26730.0000 - fp: 2518.0000 - tn: 56282.0000 - fn: 2670.0000 - precision: 0.9139 - recall: 0.9092\n",
            "Epoch 38/42\n",
            "350/350 [==============================] - 1555s 4s/step - loss: 0.2188 - accuracy: 0.9133 - tp: 26781.0000 - fp: 2484.0000 - tn: 56316.0000 - fn: 2619.0000 - precision: 0.9151 - recall: 0.9109\n",
            "Epoch 39/42\n",
            "350/350 [==============================] - 1555s 4s/step - loss: 0.2112 - accuracy: 0.9180 - tp: 26927.0000 - fp: 2329.0000 - tn: 56471.0000 - fn: 2473.0000 - precision: 0.9204 - recall: 0.9159\n",
            "Epoch 40/42\n",
            "350/350 [==============================] - 1555s 4s/step - loss: 0.2098 - accuracy: 0.9172 - tp: 26902.0000 - fp: 2365.0000 - tn: 56435.0000 - fn: 2498.0000 - precision: 0.9192 - recall: 0.9150\n",
            "Epoch 41/42\n",
            "350/350 [==============================] - 1555s 4s/step - loss: 0.2106 - accuracy: 0.9175 - tp: 26918.0000 - fp: 2347.0000 - tn: 56453.0000 - fn: 2482.0000 - precision: 0.9198 - recall: 0.9156\n",
            "Epoch 42/42\n",
            "350/350 [==============================] - 1555s 4s/step - loss: 0.2020 - accuracy: 0.9222 - tp: 27052.0000 - fp: 2225.0000 - tn: 56575.0000 - fn: 2348.0000 - precision: 0.9240 - recall: 0.9201\n"
          ]
        }
      ],
      "source": [
        "history_training = m.fit(data_train,\n",
        "                         epochs= 42,\n",
        "                         use_multiprocessing=True,\n",
        "                         callbacks=[ earlyStopping])"
      ]
    },
    {
      "cell_type": "markdown",
      "source": [
        "# Result For training Dataset"
      ],
      "metadata": {
        "id": "9x6ny3MiX13m"
      }
    },
    {
      "cell_type": "code",
      "execution_count": 81,
      "metadata": {
        "id": "ipbq-LCv9e8_",
        "colab": {
          "base_uri": "https://localhost:8080/",
          "height": 351
        },
        "outputId": "2ea02426-be88-444c-889c-0faceb9b177a"
      },
      "outputs": [
        {
          "output_type": "execute_result",
          "data": {
            "text/plain": [
              "<matplotlib.legend.Legend at 0x7f31b245f790>"
            ]
          },
          "metadata": {},
          "execution_count": 81
        },
        {
          "output_type": "display_data",
          "data": {
            "text/plain": [
              "<Figure size 576x360 with 1 Axes>"
            ],
            "image/png": "[encoded data removed]"
          },
          "metadata": {}
        }
      ],
      "source": [
        "import matplotlib as mpl\n",
        "mpl.style.use('seaborn')\n",
        "plt.figure(figsize = (8, 5))\n",
        "plt.plot(history_training.history['accuracy'],\"darkgreen\", label= \"Accuracy\")\n",
        "plt.plot(history_training.history['recall'], \"darkorange\", label= \"Recall\")\n",
        "plt.plot(history_training.history['precision'], \"darkred\", label= \"Precision\")\n",
        "plt.xlabel('Epoch')\n",
        "plt.legend()"
      ]
    },
    {
      "cell_type": "code",
      "execution_count": 83,
      "metadata": {
        "colab": {
          "base_uri": "https://localhost:8080/",
          "height": 351
        },
        "id": "3ltMKxxE9hrI",
        "outputId": "7afb2183-c216-41a9-e663-c1f103e97c83"
      },
      "outputs": [
        {
          "output_type": "execute_result",
          "data": {
            "text/plain": [
              "<matplotlib.legend.Legend at 0x7f31b23bbd90>"
            ]
          },
          "metadata": {},
          "execution_count": 83
        },
        {
          "output_type": "display_data",
          "data": {
            "text/plain": [
              "<Figure size 576x360 with 1 Axes>"
            ],
            "image/png": "[encoded data removed]"
          },
          "metadata": {}
        }
      ],
      "source": [
        "mpl.style.use('seaborn')\n",
        "plt.figure(figsize = (8, 5))\n",
        "plt.plot(history_training.history['loss'],\"darkgreen\", label= \"Accuracy\")\n",
        "plt.xlabel('Epoch')\n",
        "plt.legend()"
      ]
    },
    {
      "cell_type": "markdown",
      "source": [
        "##Evaluate Validation:"
      ],
      "metadata": {
        "id": "oYGlA8wXX5Wp"
      }
    },
    {
      "cell_type": "code",
      "execution_count": 84,
      "metadata": {
        "colab": {
          "base_uri": "https://localhost:8080/"
        },
        "id": "dGbYBdc1-OIA",
        "outputId": "eae1863d-1da3-40b4-e13e-52d8fbf27562"
      },
      "outputs": [
        {
          "output_type": "stream",
          "name": "stdout",
          "text": [
            "88/88 [==============================] - 329s 4s/step - loss: 0.0666 - accuracy: 0.9815 - tp: 7221.0000 - fp: 131.0000 - tn: 14599.0000 - fn: 144.0000 - precision: 0.9822 - recall: 0.9804\n"
          ]
        },
        {
          "output_type": "execute_result",
          "data": {
            "text/plain": [
              "[0.06664776057004929,\n",
              " 0.9815343022346497,\n",
              " 7221.0,\n",
              " 131.0,\n",
              " 14599.0,\n",
              " 144.0,\n",
              " 0.9821817278862,\n",
              " 0.9804480671882629]"
            ]
          },
          "metadata": {},
          "execution_count": 84
        }
      ],
      "source": [
        "m.evaluate(data_valid, use_multiprocessing=True)"
      ]
    },
    {
      "cell_type": "markdown",
      "source": [
        "# Predict for Test Data"
      ],
      "metadata": {
        "id": "g9Ad6SwqW3OA"
      }
    },
    {
      "cell_type": "code",
      "source": [
        "print(tf.__version__)"
      ],
      "metadata": {
        "colab": {
          "base_uri": "https://localhost:8080/"
        },
        "id": "T2V4hmN_-MG6",
        "outputId": "f4915340-6207-4526-a106-58da66a683d5"
      },
      "execution_count": 80,
      "outputs": [
        {
          "output_type": "stream",
          "name": "stdout",
          "text": [
            "2.8.2\n"
          ]
        }
      ]
    },
    {
      "cell_type": "code",
      "execution_count": 133,
      "metadata": {
        "colab": {
          "base_uri": "https://localhost:8080/"
        },
        "id": "TJcbCWRi-S_Y",
        "outputId": "374ae1d3-0ea7-4246-9564-b202a8035634"
      },
      "outputs": [
        {
          "output_type": "stream",
          "name": "stdout",
          "text": [
            "1/1 [==============================] - 3s 3s/step\n"
          ]
        }
      ],
      "source": [
        "y_pred = m.predict(dataset_test, verbose= 1)"
      ]
    },
    {
      "cell_type": "code",
      "execution_count": 134,
      "metadata": {
        "colab": {
          "base_uri": "https://localhost:8080/"
        },
        "id": "laoNvf_2EqQM",
        "outputId": "7a136d2a-5fb8-456b-9adc-b70b94109956"
      },
      "outputs": [
        {
          "output_type": "execute_result",
          "data": {
            "text/plain": [
              "array([[3.32510233e-01, 6.67489767e-01, 2.80278717e-10],\n",
              "       [9.59842384e-01, 3.80099565e-02, 2.14755139e-03],\n",
              "       [4.53247517e-01, 5.46636581e-01, 1.15954172e-04],\n",
              "       [9.49866712e-01, 5.01257405e-02, 7.63254866e-06],\n",
              "       [9.41176474e-01, 5.86310774e-02, 1.92365420e-04],\n",
              "       [1.80817828e-01, 8.18899453e-01, 2.82680063e-04],\n",
              "       [9.26552399e-04, 9.99073267e-01, 8.30924094e-08],\n",
              "       [5.81955433e-01, 4.18035597e-01, 9.04639182e-06],\n",
              "       [9.55281734e-01, 4.47070003e-02, 1.12763655e-05],\n",
              "       [5.31971514e-01, 4.19584066e-01, 4.84443642e-02]], dtype=float32)"
            ]
          },
          "metadata": {},
          "execution_count": 134
        }
      ],
      "source": [
        "y_pred"
      ]
    },
    {
      "cell_type": "code",
      "execution_count": 135,
      "metadata": {
        "id": "guZPzEtfEor8"
      },
      "outputs": [],
      "source": [
        "y_pred = np.argmax(y_pred, axis = 1)"
      ]
    },
    {
      "cell_type": "code",
      "source": [
        "y_pred"
      ],
      "metadata": {
        "colab": {
          "base_uri": "https://localhost:8080/"
        },
        "id": "mCavOoYZTITW",
        "outputId": "163adf4f-2d07-4e55-bd68-d84650ca6438"
      },
      "execution_count": 136,
      "outputs": [
        {
          "output_type": "execute_result",
          "data": {
            "text/plain": [
              "array([1, 0, 1, 0, 0, 1, 1, 0, 0, 0])"
            ]
          },
          "metadata": {},
          "execution_count": 136
        }
      ]
    },
    {
      "cell_type": "code",
      "source": [
        "for i in y_pred:\n",
        "  print(classes_names[i])"
      ],
      "metadata": {
        "colab": {
          "base_uri": "https://localhost:8080/"
        },
        "id": "qYT0A3KoTVjv",
        "outputId": "9e0047f2-aa32-427f-8104-3eb7c79e4187"
      },
      "execution_count": 138,
      "outputs": [
        {
          "output_type": "stream",
          "name": "stdout",
          "text": [
            "Effective\n",
            "Adequate\n",
            "Effective\n",
            "Adequate\n",
            "Adequate\n",
            "Effective\n",
            "Effective\n",
            "Adequate\n",
            "Adequate\n",
            "Adequate\n"
          ]
        }
      ]
    },
    {
      "cell_type": "markdown",
      "source": [
        "# sample_submission"
      ],
      "metadata": {
        "id": "hfuHNaAmW9R1"
      }
    },
    {
      "cell_type": "code",
      "source": [
        "res = [[3.32510233e-01, 6.67489767e-01, 2.80278717e-10],\n",
        "       [9.59842384e-01, 3.80099565e-02, 2.14755139e-03],\n",
        "       [4.53247517e-01, 5.46636581e-01, 1.15954172e-04],\n",
        "       [9.49866712e-01, 5.01257405e-02, 7.63254866e-06],\n",
        "       [9.41176474e-01, 5.86310774e-02, 1.92365420e-04],\n",
        "       [1.80817828e-01, 8.18899453e-01, 2.82680063e-04],\n",
        "       [9.26552399e-04, 9.99073267e-01, 8.30924094e-08],\n",
        "       [5.81955433e-01, 4.18035597e-01, 9.04639182e-06],\n",
        "       [9.55281734e-01, 4.47070003e-02, 1.12763655e-05],\n",
        "       [5.31971514e-01, 4.19584066e-01, 4.84443642e-02]]\n",
        "res = np.asarray(res)      "
      ],
      "metadata": {
        "id": "kUtXdkP2CAhf"
      },
      "execution_count": 110,
      "outputs": []
    },
    {
      "cell_type": "code",
      "source": [
        "test_dataset['discourse_id']"
      ],
      "metadata": {
        "colab": {
          "base_uri": "https://localhost:8080/"
        },
        "id": "wJrre_IOD0ig",
        "outputId": "d70b15d8-99ea-4a3d-b1bf-c5dfa310b24f"
      },
      "execution_count": 112,
      "outputs": [
        {
          "output_type": "execute_result",
          "data": {
            "text/plain": [
              "0    a261b6e14276\n",
              "1    5a88900e7dc1\n",
              "2    9790d835736b\n",
              "3    75ce6d68b67b\n",
              "4    93578d946723\n",
              "5    2e214524dbe3\n",
              "6    84812fc2ab9f\n",
              "7    c668ff840720\n",
              "8    739a6d00f44a\n",
              "9    bcfae2c9a244\n",
              "Name: discourse_id, dtype: object"
            ]
          },
          "metadata": {},
          "execution_count": 112
        }
      ]
    },
    {
      "cell_type": "code",
      "source": [
        "res_csv = pd.DataFrame({\n",
        "    \"discourse_id\":test_dataset['discourse_id'],\n",
        "    \"Ineffective\": res[:, 2].astype(float),\n",
        "    \"Adequate\": res[:, 0].astype(float),\n",
        "    \"Effective\": res[:, 1].astype(float)\n",
        "    \n",
        "})"
      ],
      "metadata": {
        "id": "0yfdXlb_CL4i"
      },
      "execution_count": 113,
      "outputs": []
    },
    {
      "cell_type": "code",
      "source": [
        "res_csv.head(n=10)"
      ],
      "metadata": {
        "colab": {
          "base_uri": "https://localhost:8080/",
          "height": 363
        },
        "id": "Y5fbFCVSCwVz",
        "outputId": "bfcee2c7-2696-4017-f22b-07560c805c01"
      },
      "execution_count": 118,
      "outputs": [
        {
          "output_type": "execute_result",
          "data": {
            "text/plain": [
              "   discourse_id   Ineffective  Adequate  Effective\n",
              "0  a261b6e14276  2.802787e-10  0.332510   0.667490\n",
              "1  5a88900e7dc1  2.147551e-03  0.959842   0.038010\n",
              "2  9790d835736b  1.159542e-04  0.453248   0.546637\n",
              "3  75ce6d68b67b  7.632549e-06  0.949867   0.050126\n",
              "4  93578d946723  1.923654e-04  0.941176   0.058631\n",
              "5  2e214524dbe3  2.826801e-04  0.180818   0.818899\n",
              "6  84812fc2ab9f  8.309241e-08  0.000927   0.999073\n",
              "7  c668ff840720  9.046392e-06  0.581955   0.418036\n",
              "8  739a6d00f44a  1.127637e-05  0.955282   0.044707\n",
              "9  bcfae2c9a244  4.844436e-02  0.531972   0.419584"
            ],
            "text/html": [
              "\n",
              "  <div id=\"df-1e48e6e9-2e23-430d-87c6-3b759f6513fc\">\n",
              "    <div class=\"colab-df-container\">\n",
              "      <div>\n",
              "<style scoped>\n",
              "    .dataframe tbody tr th:only-of-type {\n",
              "        vertical-align: middle;\n",
              "    }\n",
              "\n",
              "    .dataframe tbody tr th {\n",
              "        vertical-align: top;\n",
              "    }\n",
              "\n",
              "    .dataframe thead th {\n",
              "        text-align: right;\n",
              "    }\n",
              "</style>\n",
              "<table border=\"1\" class=\"dataframe\">\n",
              "  <thead>\n",
              "    <tr style=\"text-align: right;\">\n",
              "      <th></th>\n",
              "      <th>discourse_id</th>\n",
              "      <th>Ineffective</th>\n",
              "      <th>Adequate</th>\n",
              "      <th>Effective</th>\n",
              "    </tr>\n",
              "  </thead>\n",
              "  <tbody>\n",
              "    <tr>\n",
              "      <th>0</th>\n",
              "      <td>a261b6e14276</td>\n",
              "      <td>2.802787e-10</td>\n",
              "      <td>0.332510</td>\n",
              "      <td>0.667490</td>\n",
              "    </tr>\n",
              "    <tr>\n",
              "      <th>1</th>\n",
              "      <td>5a88900e7dc1</td>\n",
              "      <td>2.147551e-03</td>\n",
              "      <td>0.959842</td>\n",
              "      <td>0.038010</td>\n",
              "    </tr>\n",
              "    <tr>\n",
              "      <th>2</th>\n",
              "      <td>9790d835736b</td>\n",
              "      <td>1.159542e-04</td>\n",
              "      <td>0.453248</td>\n",
              "      <td>0.546637</td>\n",
              "    </tr>\n",
              "    <tr>\n",
              "      <th>3</th>\n",
              "      <td>75ce6d68b67b</td>\n",
              "      <td>7.632549e-06</td>\n",
              "      <td>0.949867</td>\n",
              "      <td>0.050126</td>\n",
              "    </tr>\n",
              "    <tr>\n",
              "      <th>4</th>\n",
              "      <td>93578d946723</td>\n",
              "      <td>1.923654e-04</td>\n",
              "      <td>0.941176</td>\n",
              "      <td>0.058631</td>\n",
              "    </tr>\n",
              "    <tr>\n",
              "      <th>5</th>\n",
              "      <td>2e214524dbe3</td>\n",
              "      <td>2.826801e-04</td>\n",
              "      <td>0.180818</td>\n",
              "      <td>0.818899</td>\n",
              "    </tr>\n",
              "    <tr>\n",
              "      <th>6</th>\n",
              "      <td>84812fc2ab9f</td>\n",
              "      <td>8.309241e-08</td>\n",
              "      <td>0.000927</td>\n",
              "      <td>0.999073</td>\n",
              "    </tr>\n",
              "    <tr>\n",
              "      <th>7</th>\n",
              "      <td>c668ff840720</td>\n",
              "      <td>9.046392e-06</td>\n",
              "      <td>0.581955</td>\n",
              "      <td>0.418036</td>\n",
              "    </tr>\n",
              "    <tr>\n",
              "      <th>8</th>\n",
              "      <td>739a6d00f44a</td>\n",
              "      <td>1.127637e-05</td>\n",
              "      <td>0.955282</td>\n",
              "      <td>0.044707</td>\n",
              "    </tr>\n",
              "    <tr>\n",
              "      <th>9</th>\n",
              "      <td>bcfae2c9a244</td>\n",
              "      <td>4.844436e-02</td>\n",
              "      <td>0.531972</td>\n",
              "      <td>0.419584</td>\n",
              "    </tr>\n",
              "  </tbody>\n",
              "</table>\n",
              "</div>\n",
              "      <button class=\"colab-df-convert\" onclick=\"convertToInteractive('df-1e48e6e9-2e23-430d-87c6-3b759f6513fc')\"\n",
              "              title=\"Convert this dataframe to an interactive table.\"\n",
              "              style=\"display:none;\">\n",
              "        \n",
              "  <svg xmlns=\"http://www.w3.org/2000/svg\" height=\"24px\"viewBox=\"0 0 24 24\"\n",
              "       width=\"24px\">\n",
              "    <path d=\"M0 0h24v24H0V0z\" fill=\"none\"/>\n",
              "    <path d=\"M18.56 5.44l.94 2.06.94-2.06 2.06-.94-2.06-.94-.94-2.06-.94 2.06-2.06.94zm-11 1L8.5 8.5l.94-2.06 2.06-.94-2.06-.94L8.5 2.5l-.94 2.06-2.06.94zm10 10l.94 2.06.94-2.06 2.06-.94-2.06-.94-.94-2.06-.94 2.06-2.06.94z\"/><path d=\"M17.41 7.96l-1.37-1.37c-.4-.4-.92-.59-1.43-.59-.52 0-1.04.2-1.43.59L10.3 9.45l-7.72 7.72c-.78.78-.78 2.05 0 2.83L4 21.41c.39.39.9.59 1.41.59.51 0 1.02-.2 1.41-.59l7.78-7.78 2.81-2.81c.8-.78.8-2.07 0-2.86zM5.41 20L4 18.59l7.72-7.72 1.47 1.35L5.41 20z\"/>\n",
              "  </svg>\n",
              "      </button>\n",
              "      \n",
              "  <style>\n",
              "    .colab-df-container {\n",
              "      display:flex;\n",
              "      flex-wrap:wrap;\n",
              "      gap: 12px;\n",
              "    }\n",
              "\n",
              "    .colab-df-convert {\n",
              "      background-color: #E8F0FE;\n",
              "      border: none;\n",
              "      border-radius: 50%;\n",
              "      cursor: pointer;\n",
              "      display: none;\n",
              "      fill: #1967D2;\n",
              "      height: 32px;\n",
              "      padding: 0 0 0 0;\n",
              "      width: 32px;\n",
              "    }\n",
              "\n",
              "    .colab-df-convert:hover {\n",
              "      background-color: #E2EBFA;\n",
              "      box-shadow: 0px 1px 2px rgba(60, 64, 67, 0.3), 0px 1px 3px 1px rgba(60, 64, 67, 0.15);\n",
              "      fill: #174EA6;\n",
              "    }\n",
              "\n",
              "    [theme=dark] .colab-df-convert {\n",
              "      background-color: #3B4455;\n",
              "      fill: #D2E3FC;\n",
              "    }\n",
              "\n",
              "    [theme=dark] .colab-df-convert:hover {\n",
              "      background-color: #434B5C;\n",
              "      box-shadow: 0px 1px 3px 1px rgba(0, 0, 0, 0.15);\n",
              "      filter: drop-shadow(0px 1px 2px rgba(0, 0, 0, 0.3));\n",
              "      fill: #FFFFFF;\n",
              "    }\n",
              "  </style>\n",
              "\n",
              "      <script>\n",
              "        const buttonEl =\n",
              "          document.querySelector('#df-1e48e6e9-2e23-430d-87c6-3b759f6513fc button.colab-df-convert');\n",
              "        buttonEl.style.display =\n",
              "          google.colab.kernel.accessAllowed ? 'block' : 'none';\n",
              "\n",
              "        async function convertToInteractive(key) {\n",
              "          const element = document.querySelector('#df-1e48e6e9-2e23-430d-87c6-3b759f6513fc');\n",
              "          const dataTable =\n",
              "            await google.colab.kernel.invokeFunction('convertToInteractive',\n",
              "                                                     [key], {});\n",
              "          if (!dataTable) return;\n",
              "\n",
              "          const docLinkHtml = 'Like what you see? Visit the ' +\n",
              "            '<a target=\"_blank\" href=https://colab.research.google.com/notebooks/data_table.ipynb>data table notebook</a>'\n",
              "            + ' to learn more about interactive tables.';\n",
              "          element.innerHTML = '';\n",
              "          dataTable['output_type'] = 'display_data';\n",
              "          await google.colab.output.renderOutput(dataTable, element);\n",
              "          const docLink = document.createElement('div');\n",
              "          docLink.innerHTML = docLinkHtml;\n",
              "          element.appendChild(docLink);\n",
              "        }\n",
              "      </script>\n",
              "    </div>\n",
              "  </div>\n",
              "  "
            ]
          },
          "metadata": {},
          "execution_count": 118
        }
      ]
    },
    {
      "cell_type": "code",
      "source": [
        "res_csv.to_csv(\"sample_submission.csv\")"
      ],
      "metadata": {
        "id": "qc3dt17lELwH"
      },
      "execution_count": 119,
      "outputs": []
    }
  ],
  "metadata": {
    "accelerator": "GPU",
    "colab": {
      "collapsed_sections": [],
      "machine_shape": "hm",
      "name": "Transformers Text Classification.ipynb",
      "provenance": []
    },
    "gpuClass": "standard",
    "kernelspec": {
      "display_name": "Python 3",
      "name": "python3"
    },
    "language_info": {
      "name": "python"
    },
    "widgets": {
      "application/vnd.jupyter.widget-state+json": {
        "fb2b728180d94e8eb0c573d98663fc1c": {
          "model_module": "@jupyter-widgets/controls",
          "model_name": "HBoxModel",
          "model_module_version": "1.5.0",
          "state": {
            "_dom_classes": [],
            "_model_module": "@jupyter-widgets/controls",
            "_model_module_version": "1.5.0",
            "_model_name": "HBoxModel",
            "_view_count": null,
            "_view_module": "@jupyter-widgets/controls",
            "_view_module_version": "1.5.0",
            "_view_name": "HBoxView",
            "box_style": "",
            "children": [
              "IPY_MODEL_156d45923a2649b28713c1ffd1fca230",
              "IPY_MODEL_dd8adbfe5f7d471687c8a814b674b42a",
              "IPY_MODEL_450e8007f8e64149ba0836e59438352c"
            ],
            "layout": "IPY_MODEL_92dde1a9006f41079c8e30bb33c41573"
          }
        },
        "156d45923a2649b28713c1ffd1fca230": {
          "model_module": "@jupyter-widgets/controls",
          "model_name": "HTMLModel",
          "model_module_version": "1.5.0",
          "state": {
            "_dom_classes": [],
            "_model_module": "@jupyter-widgets/controls",
            "_model_module_version": "1.5.0",
            "_model_name": "HTMLModel",
            "_view_count": null,
            "_view_module": "@jupyter-widgets/controls",
            "_view_module_version": "1.5.0",
            "_view_name": "HTMLView",
            "description": "",
            "description_tooltip": null,
            "layout": "IPY_MODEL_9ec01a6fad3342489d8ac13809e746c6",
            "placeholder": "​",
            "style": "IPY_MODEL_a5debc6ea7db4947bdc043e7f4f230c8",
            "value": "Downloading tokenizer_config.json: 100%"
          }
        },
        "dd8adbfe5f7d471687c8a814b674b42a": {
          "model_module": "@jupyter-widgets/controls",
          "model_name": "FloatProgressModel",
          "model_module_version": "1.5.0",
          "state": {
            "_dom_classes": [],
            "_model_module": "@jupyter-widgets/controls",
            "_model_module_version": "1.5.0",
            "_model_name": "FloatProgressModel",
            "_view_count": null,
            "_view_module": "@jupyter-widgets/controls",
            "_view_module_version": "1.5.0",
            "_view_name": "ProgressView",
            "bar_style": "success",
            "description": "",
            "description_tooltip": null,
            "layout": "IPY_MODEL_3b56ab43f7764cc39ed5cc57ff7cbeca",
            "max": 29,
            "min": 0,
            "orientation": "horizontal",
            "style": "IPY_MODEL_b96f15e6f80743ac9245774b5d0a2a9f",
            "value": 29
          }
        },
        "450e8007f8e64149ba0836e59438352c": {
          "model_module": "@jupyter-widgets/controls",
          "model_name": "HTMLModel",
          "model_module_version": "1.5.0",
          "state": {
            "_dom_classes": [],
            "_model_module": "@jupyter-widgets/controls",
            "_model_module_version": "1.5.0",
            "_model_name": "HTMLModel",
            "_view_count": null,
            "_view_module": "@jupyter-widgets/controls",
            "_view_module_version": "1.5.0",
            "_view_name": "HTMLView",
            "description": "",
            "description_tooltip": null,
            "layout": "IPY_MODEL_280b013910944df789982291ec2ed255",
            "placeholder": "​",
            "style": "IPY_MODEL_d4f4e4d815a443e5815ae368e507d497",
            "value": " 29.0/29.0 [00:00&lt;00:00, 789B/s]"
          }
        },
        "92dde1a9006f41079c8e30bb33c41573": {
          "model_module": "@jupyter-widgets/base",
          "model_name": "LayoutModel",
          "model_module_version": "1.2.0",
          "state": {
            "_model_module": "@jupyter-widgets/base",
            "_model_module_version": "1.2.0",
            "_model_name": "LayoutModel",
            "_view_count": null,
            "_view_module": "@jupyter-widgets/base",
            "_view_module_version": "1.2.0",
            "_view_name": "LayoutView",
            "align_content": null,
            "align_items": null,
            "align_self": null,
            "border": null,
            "bottom": null,
            "display": null,
            "flex": null,
            "flex_flow": null,
            "grid_area": null,
            "grid_auto_columns": null,
            "grid_auto_flow": null,
            "grid_auto_rows": null,
            "grid_column": null,
            "grid_gap": null,
            "grid_row": null,
            "grid_template_areas": null,
            "grid_template_columns": null,
            "grid_template_rows": null,
            "height": null,
            "justify_content": null,
            "justify_items": null,
            "left": null,
            "margin": null,
            "max_height": null,
            "max_width": null,
            "min_height": null,
            "min_width": null,
            "object_fit": null,
            "object_position": null,
            "order": null,
            "overflow": null,
            "overflow_x": null,
            "overflow_y": null,
            "padding": null,
            "right": null,
            "top": null,
            "visibility": null,
            "width": null
          }
        },
        "9ec01a6fad3342489d8ac13809e746c6": {
          "model_module": "@jupyter-widgets/base",
          "model_name": "LayoutModel",
          "model_module_version": "1.2.0",
          "state": {
            "_model_module": "@jupyter-widgets/base",
            "_model_module_version": "1.2.0",
            "_model_name": "LayoutModel",
            "_view_count": null,
            "_view_module": "@jupyter-widgets/base",
            "_view_module_version": "1.2.0",
            "_view_name": "LayoutView",
            "align_content": null,
            "align_items": null,
            "align_self": null,
            "border": null,
            "bottom": null,
            "display": null,
            "flex": null,
            "flex_flow": null,
            "grid_area": null,
            "grid_auto_columns": null,
            "grid_auto_flow": null,
            "grid_auto_rows": null,
            "grid_column": null,
            "grid_gap": null,
            "grid_row": null,
            "grid_template_areas": null,
            "grid_template_columns": null,
            "grid_template_rows": null,
            "height": null,
            "justify_content": null,
            "justify_items": null,
            "left": null,
            "margin": null,
            "max_height": null,
            "max_width": null,
            "min_height": null,
            "min_width": null,
            "object_fit": null,
            "object_position": null,
            "order": null,
            "overflow": null,
            "overflow_x": null,
            "overflow_y": null,
            "padding": null,
            "right": null,
            "top": null,
            "visibility": null,
            "width": null
          }
        },
        "a5debc6ea7db4947bdc043e7f4f230c8": {
          "model_module": "@jupyter-widgets/controls",
          "model_name": "DescriptionStyleModel",
          "model_module_version": "1.5.0",
          "state": {
            "_model_module": "@jupyter-widgets/controls",
            "_model_module_version": "1.5.0",
            "_model_name": "DescriptionStyleModel",
            "_view_count": null,
            "_view_module": "@jupyter-widgets/base",
            "_view_module_version": "1.2.0",
            "_view_name": "StyleView",
            "description_width": ""
          }
        },
        "3b56ab43f7764cc39ed5cc57ff7cbeca": {
          "model_module": "@jupyter-widgets/base",
          "model_name": "LayoutModel",
          "model_module_version": "1.2.0",
          "state": {
            "_model_module": "@jupyter-widgets/base",
            "_model_module_version": "1.2.0",
            "_model_name": "LayoutModel",
            "_view_count": null,
            "_view_module": "@jupyter-widgets/base",
            "_view_module_version": "1.2.0",
            "_view_name": "LayoutView",
            "align_content": null,
            "align_items": null,
            "align_self": null,
            "border": null,
            "bottom": null,
            "display": null,
            "flex": null,
            "flex_flow": null,
            "grid_area": null,
            "grid_auto_columns": null,
            "grid_auto_flow": null,
            "grid_auto_rows": null,
            "grid_column": null,
            "grid_gap": null,
            "grid_row": null,
            "grid_template_areas": null,
            "grid_template_columns": null,
            "grid_template_rows": null,
            "height": null,
            "justify_content": null,
            "justify_items": null,
            "left": null,
            "margin": null,
            "max_height": null,
            "max_width": null,
            "min_height": null,
            "min_width": null,
            "object_fit": null,
            "object_position": null,
            "order": null,
            "overflow": null,
            "overflow_x": null,
            "overflow_y": null,
            "padding": null,
            "right": null,
            "top": null,
            "visibility": null,
            "width": null
          }
        },
        "b96f15e6f80743ac9245774b5d0a2a9f": {
          "model_module": "@jupyter-widgets/controls",
          "model_name": "ProgressStyleModel",
          "model_module_version": "1.5.0",
          "state": {
            "_model_module": "@jupyter-widgets/controls",
            "_model_module_version": "1.5.0",
            "_model_name": "ProgressStyleModel",
            "_view_count": null,
            "_view_module": "@jupyter-widgets/base",
            "_view_module_version": "1.2.0",
            "_view_name": "StyleView",
            "bar_color": null,
            "description_width": ""
          }
        },
        "280b013910944df789982291ec2ed255": {
          "model_module": "@jupyter-widgets/base",
          "model_name": "LayoutModel",
          "model_module_version": "1.2.0",
          "state": {
            "_model_module": "@jupyter-widgets/base",
            "_model_module_version": "1.2.0",
            "_model_name": "LayoutModel",
            "_view_count": null,
            "_view_module": "@jupyter-widgets/base",
            "_view_module_version": "1.2.0",
            "_view_name": "LayoutView",
            "align_content": null,
            "align_items": null,
            "align_self": null,
            "border": null,
            "bottom": null,
            "display": null,
            "flex": null,
            "flex_flow": null,
            "grid_area": null,
            "grid_auto_columns": null,
            "grid_auto_flow": null,
            "grid_auto_rows": null,
            "grid_column": null,
            "grid_gap": null,
            "grid_row": null,
            "grid_template_areas": null,
            "grid_template_columns": null,
            "grid_template_rows": null,
            "height": null,
            "justify_content": null,
            "justify_items": null,
            "left": null,
            "margin": null,
            "max_height": null,
            "max_width": null,
            "min_height": null,
            "min_width": null,
            "object_fit": null,
            "object_position": null,
            "order": null,
            "overflow": null,
            "overflow_x": null,
            "overflow_y": null,
            "padding": null,
            "right": null,
            "top": null,
            "visibility": null,
            "width": null
          }
        },
        "d4f4e4d815a443e5815ae368e507d497": {
          "model_module": "@jupyter-widgets/controls",
          "model_name": "DescriptionStyleModel",
          "model_module_version": "1.5.0",
          "state": {
            "_model_module": "@jupyter-widgets/controls",
            "_model_module_version": "1.5.0",
            "_model_name": "DescriptionStyleModel",
            "_view_count": null,
            "_view_module": "@jupyter-widgets/base",
            "_view_module_version": "1.2.0",
            "_view_name": "StyleView",
            "description_width": ""
          }
        },
        "50b21e5819ac4571a1271b812a1e48d2": {
          "model_module": "@jupyter-widgets/controls",
          "model_name": "HBoxModel",
          "model_module_version": "1.5.0",
          "state": {
            "_dom_classes": [],
            "_model_module": "@jupyter-widgets/controls",
            "_model_module_version": "1.5.0",
            "_model_name": "HBoxModel",
            "_view_count": null,
            "_view_module": "@jupyter-widgets/controls",
            "_view_module_version": "1.5.0",
            "_view_name": "HBoxView",
            "box_style": "",
            "children": [
              "IPY_MODEL_37e587aaf34140988a3aa0b76d6f3a72",
              "IPY_MODEL_d7ae19ebef1e4b6ea4aa59d78df15dcd",
              "IPY_MODEL_9c5b741abcf44b93a91e269bd2448a5a"
            ],
            "layout": "IPY_MODEL_7a91004e2bf64edaa3b6333ecc82dcea"
          }
        },
        "37e587aaf34140988a3aa0b76d6f3a72": {
          "model_module": "@jupyter-widgets/controls",
          "model_name": "HTMLModel",
          "model_module_version": "1.5.0",
          "state": {
            "_dom_classes": [],
            "_model_module": "@jupyter-widgets/controls",
            "_model_module_version": "1.5.0",
            "_model_name": "HTMLModel",
            "_view_count": null,
            "_view_module": "@jupyter-widgets/controls",
            "_view_module_version": "1.5.0",
            "_view_name": "HTMLView",
            "description": "",
            "description_tooltip": null,
            "layout": "IPY_MODEL_d9a0d6757c3f40aaad88f1da6549fbc2",
            "placeholder": "​",
            "style": "IPY_MODEL_36dda10070b647979d5a858cfcbdcd5d",
            "value": "Downloading config.json: 100%"
          }
        },
        "d7ae19ebef1e4b6ea4aa59d78df15dcd": {
          "model_module": "@jupyter-widgets/controls",
          "model_name": "FloatProgressModel",
          "model_module_version": "1.5.0",
          "state": {
            "_dom_classes": [],
            "_model_module": "@jupyter-widgets/controls",
            "_model_module_version": "1.5.0",
            "_model_name": "FloatProgressModel",
            "_view_count": null,
            "_view_module": "@jupyter-widgets/controls",
            "_view_module_version": "1.5.0",
            "_view_name": "ProgressView",
            "bar_style": "success",
            "description": "",
            "description_tooltip": null,
            "layout": "IPY_MODEL_f69b94b005db46f3a769efd6d9a39f6f",
            "max": 570,
            "min": 0,
            "orientation": "horizontal",
            "style": "IPY_MODEL_83833cac9cc1434e8f42d19a933971ce",
            "value": 570
          }
        },
        "9c5b741abcf44b93a91e269bd2448a5a": {
          "model_module": "@jupyter-widgets/controls",
          "model_name": "HTMLModel",
          "model_module_version": "1.5.0",
          "state": {
            "_dom_classes": [],
            "_model_module": "@jupyter-widgets/controls",
            "_model_module_version": "1.5.0",
            "_model_name": "HTMLModel",
            "_view_count": null,
            "_view_module": "@jupyter-widgets/controls",
            "_view_module_version": "1.5.0",
            "_view_name": "HTMLView",
            "description": "",
            "description_tooltip": null,
            "layout": "IPY_MODEL_c35d20ad52ad48b297d5672e7e6590a7",
            "placeholder": "​",
            "style": "IPY_MODEL_684c62fe44024051bbfd1634ee50af2d",
            "value": " 570/570 [00:00&lt;00:00, 9.28kB/s]"
          }
        },
        "7a91004e2bf64edaa3b6333ecc82dcea": {
          "model_module": "@jupyter-widgets/base",
          "model_name": "LayoutModel",
          "model_module_version": "1.2.0",
          "state": {
            "_model_module": "@jupyter-widgets/base",
            "_model_module_version": "1.2.0",
            "_model_name": "LayoutModel",
            "_view_count": null,
            "_view_module": "@jupyter-widgets/base",
            "_view_module_version": "1.2.0",
            "_view_name": "LayoutView",
            "align_content": null,
            "align_items": null,
            "align_self": null,
            "border": null,
            "bottom": null,
            "display": null,
            "flex": null,
            "flex_flow": null,
            "grid_area": null,
            "grid_auto_columns": null,
            "grid_auto_flow": null,
            "grid_auto_rows": null,
            "grid_column": null,
            "grid_gap": null,
            "grid_row": null,
            "grid_template_areas": null,
            "grid_template_columns": null,
            "grid_template_rows": null,
            "height": null,
            "justify_content": null,
            "justify_items": null,
            "left": null,
            "margin": null,
            "max_height": null,
            "max_width": null,
            "min_height": null,
            "min_width": null,
            "object_fit": null,
            "object_position": null,
            "order": null,
            "overflow": null,
            "overflow_x": null,
            "overflow_y": null,
            "padding": null,
            "right": null,
            "top": null,
            "visibility": null,
            "width": null
          }
        },
        "d9a0d6757c3f40aaad88f1da6549fbc2": {
          "model_module": "@jupyter-widgets/base",
          "model_name": "LayoutModel",
          "model_module_version": "1.2.0",
          "state": {
            "_model_module": "@jupyter-widgets/base",
            "_model_module_version": "1.2.0",
            "_model_name": "LayoutModel",
            "_view_count": null,
            "_view_module": "@jupyter-widgets/base",
            "_view_module_version": "1.2.0",
            "_view_name": "LayoutView",
            "align_content": null,
            "align_items": null,
            "align_self": null,
            "border": null,
            "bottom": null,
            "display": null,
            "flex": null,
            "flex_flow": null,
            "grid_area": null,
            "grid_auto_columns": null,
            "grid_auto_flow": null,
            "grid_auto_rows": null,
            "grid_column": null,
            "grid_gap": null,
            "grid_row": null,
            "grid_template_areas": null,
            "grid_template_columns": null,
            "grid_template_rows": null,
            "height": null,
            "justify_content": null,
            "justify_items": null,
            "left": null,
            "margin": null,
            "max_height": null,
            "max_width": null,
            "min_height": null,
            "min_width": null,
            "object_fit": null,
            "object_position": null,
            "order": null,
            "overflow": null,
            "overflow_x": null,
            "overflow_y": null,
            "padding": null,
            "right": null,
            "top": null,
            "visibility": null,
            "width": null
          }
        },
        "36dda10070b647979d5a858cfcbdcd5d": {
          "model_module": "@jupyter-widgets/controls",
          "model_name": "DescriptionStyleModel",
          "model_module_version": "1.5.0",
          "state": {
            "_model_module": "@jupyter-widgets/controls",
            "_model_module_version": "1.5.0",
            "_model_name": "DescriptionStyleModel",
            "_view_count": null,
            "_view_module": "@jupyter-widgets/base",
            "_view_module_version": "1.2.0",
            "_view_name": "StyleView",
            "description_width": ""
          }
        },
        "f69b94b005db46f3a769efd6d9a39f6f": {
          "model_module": "@jupyter-widgets/base",
          "model_name": "LayoutModel",
          "model_module_version": "1.2.0",
          "state": {
            "_model_module": "@jupyter-widgets/base",
            "_model_module_version": "1.2.0",
            "_model_name": "LayoutModel",
            "_view_count": null,
            "_view_module": "@jupyter-widgets/base",
            "_view_module_version": "1.2.0",
            "_view_name": "LayoutView",
            "align_content": null,
            "align_items": null,
            "align_self": null,
            "border": null,
            "bottom": null,
            "display": null,
            "flex": null,
            "flex_flow": null,
            "grid_area": null,
            "grid_auto_columns": null,
            "grid_auto_flow": null,
            "grid_auto_rows": null,
            "grid_column": null,
            "grid_gap": null,
            "grid_row": null,
            "grid_template_areas": null,
            "grid_template_columns": null,
            "grid_template_rows": null,
            "height": null,
            "justify_content": null,
            "justify_items": null,
            "left": null,
            "margin": null,
            "max_height": null,
            "max_width": null,
            "min_height": null,
            "min_width": null,
            "object_fit": null,
            "object_position": null,
            "order": null,
            "overflow": null,
            "overflow_x": null,
            "overflow_y": null,
            "padding": null,
            "right": null,
            "top": null,
            "visibility": null,
            "width": null
          }
        },
        "83833cac9cc1434e8f42d19a933971ce": {
          "model_module": "@jupyter-widgets/controls",
          "model_name": "ProgressStyleModel",
          "model_module_version": "1.5.0",
          "state": {
            "_model_module": "@jupyter-widgets/controls",
            "_model_module_version": "1.5.0",
            "_model_name": "ProgressStyleModel",
            "_view_count": null,
            "_view_module": "@jupyter-widgets/base",
            "_view_module_version": "1.2.0",
            "_view_name": "StyleView",
            "bar_color": null,
            "description_width": ""
          }
        },
        "c35d20ad52ad48b297d5672e7e6590a7": {
          "model_module": "@jupyter-widgets/base",
          "model_name": "LayoutModel",
          "model_module_version": "1.2.0",
          "state": {
            "_model_module": "@jupyter-widgets/base",
            "_model_module_version": "1.2.0",
            "_model_name": "LayoutModel",
            "_view_count": null,
            "_view_module": "@jupyter-widgets/base",
            "_view_module_version": "1.2.0",
            "_view_name": "LayoutView",
            "align_content": null,
            "align_items": null,
            "align_self": null,
            "border": null,
            "bottom": null,
            "display": null,
            "flex": null,
            "flex_flow": null,
            "grid_area": null,
            "grid_auto_columns": null,
            "grid_auto_flow": null,
            "grid_auto_rows": null,
            "grid_column": null,
            "grid_gap": null,
            "grid_row": null,
            "grid_template_areas": null,
            "grid_template_columns": null,
            "grid_template_rows": null,
            "height": null,
            "justify_content": null,
            "justify_items": null,
            "left": null,
            "margin": null,
            "max_height": null,
            "max_width": null,
            "min_height": null,
            "min_width": null,
            "object_fit": null,
            "object_position": null,
            "order": null,
            "overflow": null,
            "overflow_x": null,
            "overflow_y": null,
            "padding": null,
            "right": null,
            "top": null,
            "visibility": null,
            "width": null
          }
        },
        "684c62fe44024051bbfd1634ee50af2d": {
          "model_module": "@jupyter-widgets/controls",
          "model_name": "DescriptionStyleModel",
          "model_module_version": "1.5.0",
          "state": {
            "_model_module": "@jupyter-widgets/controls",
            "_model_module_version": "1.5.0",
            "_model_name": "DescriptionStyleModel",
            "_view_count": null,
            "_view_module": "@jupyter-widgets/base",
            "_view_module_version": "1.2.0",
            "_view_name": "StyleView",
            "description_width": ""
          }
        },
        "271d546101a247d98f3356c4a73615ce": {
          "model_module": "@jupyter-widgets/controls",
          "model_name": "HBoxModel",
          "model_module_version": "1.5.0",
          "state": {
            "_dom_classes": [],
            "_model_module": "@jupyter-widgets/controls",
            "_model_module_version": "1.5.0",
            "_model_name": "HBoxModel",
            "_view_count": null,
            "_view_module": "@jupyter-widgets/controls",
            "_view_module_version": "1.5.0",
            "_view_name": "HBoxView",
            "box_style": "",
            "children": [
              "IPY_MODEL_1f5500894d3b4e1ca8260fcc5e791179",
              "IPY_MODEL_ab727ac870ba4a8fa0a52f2f1d704aa5",
              "IPY_MODEL_2f01b144a10d4d93b3b81ea6fc3697c3"
            ],
            "layout": "IPY_MODEL_10db1eb05c6745599e41740019c2ef4f"
          }
        },
        "1f5500894d3b4e1ca8260fcc5e791179": {
          "model_module": "@jupyter-widgets/controls",
          "model_name": "HTMLModel",
          "model_module_version": "1.5.0",
          "state": {
            "_dom_classes": [],
            "_model_module": "@jupyter-widgets/controls",
            "_model_module_version": "1.5.0",
            "_model_name": "HTMLModel",
            "_view_count": null,
            "_view_module": "@jupyter-widgets/controls",
            "_view_module_version": "1.5.0",
            "_view_name": "HTMLView",
            "description": "",
            "description_tooltip": null,
            "layout": "IPY_MODEL_c781c98ab6e340ffac09e83a4b7205be",
            "placeholder": "​",
            "style": "IPY_MODEL_c5da1ddfeb0544c09e71620f2f03f6c5",
            "value": "Downloading vocab.txt: 100%"
          }
        },
        "ab727ac870ba4a8fa0a52f2f1d704aa5": {
          "model_module": "@jupyter-widgets/controls",
          "model_name": "FloatProgressModel",
          "model_module_version": "1.5.0",
          "state": {
            "_dom_classes": [],
            "_model_module": "@jupyter-widgets/controls",
            "_model_module_version": "1.5.0",
            "_model_name": "FloatProgressModel",
            "_view_count": null,
            "_view_module": "@jupyter-widgets/controls",
            "_view_module_version": "1.5.0",
            "_view_name": "ProgressView",
            "bar_style": "success",
            "description": "",
            "description_tooltip": null,
            "layout": "IPY_MODEL_e48b045f3058436282499cb971401602",
            "max": 213450,
            "min": 0,
            "orientation": "horizontal",
            "style": "IPY_MODEL_22b8ff1cecf146abb46b7a7ee55f2fc0",
            "value": 213450
          }
        },
        "2f01b144a10d4d93b3b81ea6fc3697c3": {
          "model_module": "@jupyter-widgets/controls",
          "model_name": "HTMLModel",
          "model_module_version": "1.5.0",
          "state": {
            "_dom_classes": [],
            "_model_module": "@jupyter-widgets/controls",
            "_model_module_version": "1.5.0",
            "_model_name": "HTMLModel",
            "_view_count": null,
            "_view_module": "@jupyter-widgets/controls",
            "_view_module_version": "1.5.0",
            "_view_name": "HTMLView",
            "description": "",
            "description_tooltip": null,
            "layout": "IPY_MODEL_769b1d9ab0d143a59020754f97ca31a6",
            "placeholder": "​",
            "style": "IPY_MODEL_9cab26eff33c4003a7e314294d64326b",
            "value": " 208k/208k [00:00&lt;00:00, 328kB/s]"
          }
        },
        "10db1eb05c6745599e41740019c2ef4f": {
          "model_module": "@jupyter-widgets/base",
          "model_name": "LayoutModel",
          "model_module_version": "1.2.0",
          "state": {
            "_model_module": "@jupyter-widgets/base",
            "_model_module_version": "1.2.0",
            "_model_name": "LayoutModel",
            "_view_count": null,
            "_view_module": "@jupyter-widgets/base",
            "_view_module_version": "1.2.0",
            "_view_name": "LayoutView",
            "align_content": null,
            "align_items": null,
            "align_self": null,
            "border": null,
            "bottom": null,
            "display": null,
            "flex": null,
            "flex_flow": null,
            "grid_area": null,
            "grid_auto_columns": null,
            "grid_auto_flow": null,
            "grid_auto_rows": null,
            "grid_column": null,
            "grid_gap": null,
            "grid_row": null,
            "grid_template_areas": null,
            "grid_template_columns": null,
            "grid_template_rows": null,
            "height": null,
            "justify_content": null,
            "justify_items": null,
            "left": null,
            "margin": null,
            "max_height": null,
            "max_width": null,
            "min_height": null,
            "min_width": null,
            "object_fit": null,
            "object_position": null,
            "order": null,
            "overflow": null,
            "overflow_x": null,
            "overflow_y": null,
            "padding": null,
            "right": null,
            "top": null,
            "visibility": null,
            "width": null
          }
        },
        "c781c98ab6e340ffac09e83a4b7205be": {
          "model_module": "@jupyter-widgets/base",
          "model_name": "LayoutModel",
          "model_module_version": "1.2.0",
          "state": {
            "_model_module": "@jupyter-widgets/base",
            "_model_module_version": "1.2.0",
            "_model_name": "LayoutModel",
            "_view_count": null,
            "_view_module": "@jupyter-widgets/base",
            "_view_module_version": "1.2.0",
            "_view_name": "LayoutView",
            "align_content": null,
            "align_items": null,
            "align_self": null,
            "border": null,
            "bottom": null,
            "display": null,
            "flex": null,
            "flex_flow": null,
            "grid_area": null,
            "grid_auto_columns": null,
            "grid_auto_flow": null,
            "grid_auto_rows": null,
            "grid_column": null,
            "grid_gap": null,
            "grid_row": null,
            "grid_template_areas": null,
            "grid_template_columns": null,
            "grid_template_rows": null,
            "height": null,
            "justify_content": null,
            "justify_items": null,
            "left": null,
            "margin": null,
            "max_height": null,
            "max_width": null,
            "min_height": null,
            "min_width": null,
            "object_fit": null,
            "object_position": null,
            "order": null,
            "overflow": null,
            "overflow_x": null,
            "overflow_y": null,
            "padding": null,
            "right": null,
            "top": null,
            "visibility": null,
            "width": null
          }
        },
        "c5da1ddfeb0544c09e71620f2f03f6c5": {
          "model_module": "@jupyter-widgets/controls",
          "model_name": "DescriptionStyleModel",
          "model_module_version": "1.5.0",
          "state": {
            "_model_module": "@jupyter-widgets/controls",
            "_model_module_version": "1.5.0",
            "_model_name": "DescriptionStyleModel",
            "_view_count": null,
            "_view_module": "@jupyter-widgets/base",
            "_view_module_version": "1.2.0",
            "_view_name": "StyleView",
            "description_width": ""
          }
        },
        "e48b045f3058436282499cb971401602": {
          "model_module": "@jupyter-widgets/base",
          "model_name": "LayoutModel",
          "model_module_version": "1.2.0",
          "state": {
            "_model_module": "@jupyter-widgets/base",
            "_model_module_version": "1.2.0",
            "_model_name": "LayoutModel",
            "_view_count": null,
            "_view_module": "@jupyter-widgets/base",
            "_view_module_version": "1.2.0",
            "_view_name": "LayoutView",
            "align_content": null,
            "align_items": null,
            "align_self": null,
            "border": null,
            "bottom": null,
            "display": null,
            "flex": null,
            "flex_flow": null,
            "grid_area": null,
            "grid_auto_columns": null,
            "grid_auto_flow": null,
            "grid_auto_rows": null,
            "grid_column": null,
            "grid_gap": null,
            "grid_row": null,
            "grid_template_areas": null,
            "grid_template_columns": null,
            "grid_template_rows": null,
            "height": null,
            "justify_content": null,
            "justify_items": null,
            "left": null,
            "margin": null,
            "max_height": null,
            "max_width": null,
            "min_height": null,
            "min_width": null,
            "object_fit": null,
            "object_position": null,
            "order": null,
            "overflow": null,
            "overflow_x": null,
            "overflow_y": null,
            "padding": null,
            "right": null,
            "top": null,
            "visibility": null,
            "width": null
          }
        },
        "22b8ff1cecf146abb46b7a7ee55f2fc0": {
          "model_module": "@jupyter-widgets/controls",
          "model_name": "ProgressStyleModel",
          "model_module_version": "1.5.0",
          "state": {
            "_model_module": "@jupyter-widgets/controls",
            "_model_module_version": "1.5.0",
            "_model_name": "ProgressStyleModel",
            "_view_count": null,
            "_view_module": "@jupyter-widgets/base",
            "_view_module_version": "1.2.0",
            "_view_name": "StyleView",
            "bar_color": null,
            "description_width": ""
          }
        },
        "769b1d9ab0d143a59020754f97ca31a6": {
          "model_module": "@jupyter-widgets/base",
          "model_name": "LayoutModel",
          "model_module_version": "1.2.0",
          "state": {
            "_model_module": "@jupyter-widgets/base",
            "_model_module_version": "1.2.0",
            "_model_name": "LayoutModel",
            "_view_count": null,
            "_view_module": "@jupyter-widgets/base",
            "_view_module_version": "1.2.0",
            "_view_name": "LayoutView",
            "align_content": null,
            "align_items": null,
            "align_self": null,
            "border": null,
            "bottom": null,
            "display": null,
            "flex": null,
            "flex_flow": null,
            "grid_area": null,
            "grid_auto_columns": null,
            "grid_auto_flow": null,
            "grid_auto_rows": null,
            "grid_column": null,
            "grid_gap": null,
            "grid_row": null,
            "grid_template_areas": null,
            "grid_template_columns": null,
            "grid_template_rows": null,
            "height": null,
            "justify_content": null,
            "justify_items": null,
            "left": null,
            "margin": null,
            "max_height": null,
            "max_width": null,
            "min_height": null,
            "min_width": null,
            "object_fit": null,
            "object_position": null,
            "order": null,
            "overflow": null,
            "overflow_x": null,
            "overflow_y": null,
            "padding": null,
            "right": null,
            "top": null,
            "visibility": null,
            "width": null
          }
        },
        "9cab26eff33c4003a7e314294d64326b": {
          "model_module": "@jupyter-widgets/controls",
          "model_name": "DescriptionStyleModel",
          "model_module_version": "1.5.0",
          "state": {
            "_model_module": "@jupyter-widgets/controls",
            "_model_module_version": "1.5.0",
            "_model_name": "DescriptionStyleModel",
            "_view_count": null,
            "_view_module": "@jupyter-widgets/base",
            "_view_module_version": "1.2.0",
            "_view_name": "StyleView",
            "description_width": ""
          }
        },
        "eed7502d737848bb8b65493ba7eba811": {
          "model_module": "@jupyter-widgets/controls",
          "model_name": "HBoxModel",
          "model_module_version": "1.5.0",
          "state": {
            "_dom_classes": [],
            "_model_module": "@jupyter-widgets/controls",
            "_model_module_version": "1.5.0",
            "_model_name": "HBoxModel",
            "_view_count": null,
            "_view_module": "@jupyter-widgets/controls",
            "_view_module_version": "1.5.0",
            "_view_name": "HBoxView",
            "box_style": "",
            "children": [
              "IPY_MODEL_6e326b9cc3da42abb119e00eac9d45f0",
              "IPY_MODEL_7dc579b1fee94cc086f87e8586c03b4c",
              "IPY_MODEL_971225d0bc634889a6d535cf2f0a2f83"
            ],
            "layout": "IPY_MODEL_72669590a72b46f5a42323ab666b164d"
          }
        },
        "6e326b9cc3da42abb119e00eac9d45f0": {
          "model_module": "@jupyter-widgets/controls",
          "model_name": "HTMLModel",
          "model_module_version": "1.5.0",
          "state": {
            "_dom_classes": [],
            "_model_module": "@jupyter-widgets/controls",
            "_model_module_version": "1.5.0",
            "_model_name": "HTMLModel",
            "_view_count": null,
            "_view_module": "@jupyter-widgets/controls",
            "_view_module_version": "1.5.0",
            "_view_name": "HTMLView",
            "description": "",
            "description_tooltip": null,
            "layout": "IPY_MODEL_cb509c45ed514313a3448189b129a218",
            "placeholder": "​",
            "style": "IPY_MODEL_12cd31cde213404fa2ea74ca677cd308",
            "value": "Downloading tokenizer.json: 100%"
          }
        },
        "7dc579b1fee94cc086f87e8586c03b4c": {
          "model_module": "@jupyter-widgets/controls",
          "model_name": "FloatProgressModel",
          "model_module_version": "1.5.0",
          "state": {
            "_dom_classes": [],
            "_model_module": "@jupyter-widgets/controls",
            "_model_module_version": "1.5.0",
            "_model_name": "FloatProgressModel",
            "_view_count": null,
            "_view_module": "@jupyter-widgets/controls",
            "_view_module_version": "1.5.0",
            "_view_name": "ProgressView",
            "bar_style": "success",
            "description": "",
            "description_tooltip": null,
            "layout": "IPY_MODEL_7cef06cb92f44c858983c881dd800e1b",
            "max": 435797,
            "min": 0,
            "orientation": "horizontal",
            "style": "IPY_MODEL_0672d23631504685891785803e100e96",
            "value": 435797
          }
        },
        "971225d0bc634889a6d535cf2f0a2f83": {
          "model_module": "@jupyter-widgets/controls",
          "model_name": "HTMLModel",
          "model_module_version": "1.5.0",
          "state": {
            "_dom_classes": [],
            "_model_module": "@jupyter-widgets/controls",
            "_model_module_version": "1.5.0",
            "_model_name": "HTMLModel",
            "_view_count": null,
            "_view_module": "@jupyter-widgets/controls",
            "_view_module_version": "1.5.0",
            "_view_name": "HTMLView",
            "description": "",
            "description_tooltip": null,
            "layout": "IPY_MODEL_c7b8dcd7e7fd4720bb09b0fa3d21ba79",
            "placeholder": "​",
            "style": "IPY_MODEL_43f81277ef2f4564860171d06b62d054",
            "value": " 426k/426k [00:00&lt;00:00, 603kB/s]"
          }
        },
        "72669590a72b46f5a42323ab666b164d": {
          "model_module": "@jupyter-widgets/base",
          "model_name": "LayoutModel",
          "model_module_version": "1.2.0",
          "state": {
            "_model_module": "@jupyter-widgets/base",
            "_model_module_version": "1.2.0",
            "_model_name": "LayoutModel",
            "_view_count": null,
            "_view_module": "@jupyter-widgets/base",
            "_view_module_version": "1.2.0",
            "_view_name": "LayoutView",
            "align_content": null,
            "align_items": null,
            "align_self": null,
            "border": null,
            "bottom": null,
            "display": null,
            "flex": null,
            "flex_flow": null,
            "grid_area": null,
            "grid_auto_columns": null,
            "grid_auto_flow": null,
            "grid_auto_rows": null,
            "grid_column": null,
            "grid_gap": null,
            "grid_row": null,
            "grid_template_areas": null,
            "grid_template_columns": null,
            "grid_template_rows": null,
            "height": null,
            "justify_content": null,
            "justify_items": null,
            "left": null,
            "margin": null,
            "max_height": null,
            "max_width": null,
            "min_height": null,
            "min_width": null,
            "object_fit": null,
            "object_position": null,
            "order": null,
            "overflow": null,
            "overflow_x": null,
            "overflow_y": null,
            "padding": null,
            "right": null,
            "top": null,
            "visibility": null,
            "width": null
          }
        },
        "cb509c45ed514313a3448189b129a218": {
          "model_module": "@jupyter-widgets/base",
          "model_name": "LayoutModel",
          "model_module_version": "1.2.0",
          "state": {
            "_model_module": "@jupyter-widgets/base",
            "_model_module_version": "1.2.0",
            "_model_name": "LayoutModel",
            "_view_count": null,
            "_view_module": "@jupyter-widgets/base",
            "_view_module_version": "1.2.0",
            "_view_name": "LayoutView",
            "align_content": null,
            "align_items": null,
            "align_self": null,
            "border": null,
            "bottom": null,
            "display": null,
            "flex": null,
            "flex_flow": null,
            "grid_area": null,
            "grid_auto_columns": null,
            "grid_auto_flow": null,
            "grid_auto_rows": null,
            "grid_column": null,
            "grid_gap": null,
            "grid_row": null,
            "grid_template_areas": null,
            "grid_template_columns": null,
            "grid_template_rows": null,
            "height": null,
            "justify_content": null,
            "justify_items": null,
            "left": null,
            "margin": null,
            "max_height": null,
            "max_width": null,
            "min_height": null,
            "min_width": null,
            "object_fit": null,
            "object_position": null,
            "order": null,
            "overflow": null,
            "overflow_x": null,
            "overflow_y": null,
            "padding": null,
            "right": null,
            "top": null,
            "visibility": null,
            "width": null
          }
        },
        "12cd31cde213404fa2ea74ca677cd308": {
          "model_module": "@jupyter-widgets/controls",
          "model_name": "DescriptionStyleModel",
          "model_module_version": "1.5.0",
          "state": {
            "_model_module": "@jupyter-widgets/controls",
            "_model_module_version": "1.5.0",
            "_model_name": "DescriptionStyleModel",
            "_view_count": null,
            "_view_module": "@jupyter-widgets/base",
            "_view_module_version": "1.2.0",
            "_view_name": "StyleView",
            "description_width": ""
          }
        },
        "7cef06cb92f44c858983c881dd800e1b": {
          "model_module": "@jupyter-widgets/base",
          "model_name": "LayoutModel",
          "model_module_version": "1.2.0",
          "state": {
            "_model_module": "@jupyter-widgets/base",
            "_model_module_version": "1.2.0",
            "_model_name": "LayoutModel",
            "_view_count": null,
            "_view_module": "@jupyter-widgets/base",
            "_view_module_version": "1.2.0",
            "_view_name": "LayoutView",
            "align_content": null,
            "align_items": null,
            "align_self": null,
            "border": null,
            "bottom": null,
            "display": null,
            "flex": null,
            "flex_flow": null,
            "grid_area": null,
            "grid_auto_columns": null,
            "grid_auto_flow": null,
            "grid_auto_rows": null,
            "grid_column": null,
            "grid_gap": null,
            "grid_row": null,
            "grid_template_areas": null,
            "grid_template_columns": null,
            "grid_template_rows": null,
            "height": null,
            "justify_content": null,
            "justify_items": null,
            "left": null,
            "margin": null,
            "max_height": null,
            "max_width": null,
            "min_height": null,
            "min_width": null,
            "object_fit": null,
            "object_position": null,
            "order": null,
            "overflow": null,
            "overflow_x": null,
            "overflow_y": null,
            "padding": null,
            "right": null,
            "top": null,
            "visibility": null,
            "width": null
          }
        },
        "0672d23631504685891785803e100e96": {
          "model_module": "@jupyter-widgets/controls",
          "model_name": "ProgressStyleModel",
          "model_module_version": "1.5.0",
          "state": {
            "_model_module": "@jupyter-widgets/controls",
            "_model_module_version": "1.5.0",
            "_model_name": "ProgressStyleModel",
            "_view_count": null,
            "_view_module": "@jupyter-widgets/base",
            "_view_module_version": "1.2.0",
            "_view_name": "StyleView",
            "bar_color": null,
            "description_width": ""
          }
        },
        "c7b8dcd7e7fd4720bb09b0fa3d21ba79": {
          "model_module": "@jupyter-widgets/base",
          "model_name": "LayoutModel",
          "model_module_version": "1.2.0",
          "state": {
            "_model_module": "@jupyter-widgets/base",
            "_model_module_version": "1.2.0",
            "_model_name": "LayoutModel",
            "_view_count": null,
            "_view_module": "@jupyter-widgets/base",
            "_view_module_version": "1.2.0",
            "_view_name": "LayoutView",
            "align_content": null,
            "align_items": null,
            "align_self": null,
            "border": null,
            "bottom": null,
            "display": null,
            "flex": null,
            "flex_flow": null,
            "grid_area": null,
            "grid_auto_columns": null,
            "grid_auto_flow": null,
            "grid_auto_rows": null,
            "grid_column": null,
            "grid_gap": null,
            "grid_row": null,
            "grid_template_areas": null,
            "grid_template_columns": null,
            "grid_template_rows": null,
            "height": null,
            "justify_content": null,
            "justify_items": null,
            "left": null,
            "margin": null,
            "max_height": null,
            "max_width": null,
            "min_height": null,
            "min_width": null,
            "object_fit": null,
            "object_position": null,
            "order": null,
            "overflow": null,
            "overflow_x": null,
            "overflow_y": null,
            "padding": null,
            "right": null,
            "top": null,
            "visibility": null,
            "width": null
          }
        },
        "43f81277ef2f4564860171d06b62d054": {
          "model_module": "@jupyter-widgets/controls",
          "model_name": "DescriptionStyleModel",
          "model_module_version": "1.5.0",
          "state": {
            "_model_module": "@jupyter-widgets/controls",
            "_model_module_version": "1.5.0",
            "_model_name": "DescriptionStyleModel",
            "_view_count": null,
            "_view_module": "@jupyter-widgets/base",
            "_view_module_version": "1.2.0",
            "_view_name": "StyleView",
            "description_width": ""
          }
        },
        "b3d8b99fd64f46e7a62740250381cac9": {
          "model_module": "@jupyter-widgets/controls",
          "model_name": "HBoxModel",
          "model_module_version": "1.5.0",
          "state": {
            "_dom_classes": [],
            "_model_module": "@jupyter-widgets/controls",
            "_model_module_version": "1.5.0",
            "_model_name": "HBoxModel",
            "_view_count": null,
            "_view_module": "@jupyter-widgets/controls",
            "_view_module_version": "1.5.0",
            "_view_name": "HBoxView",
            "box_style": "",
            "children": [
              "IPY_MODEL_8d35c3feb5a14fbeb1bdc36f3bf60f1e",
              "IPY_MODEL_04f91b0e285640f48d011d537a3b8019",
              "IPY_MODEL_537dac7fc42649fabde43d3b7da77534"
            ],
            "layout": "IPY_MODEL_bd2f2ba0550a4a8e82887aacac190db7"
          }
        },
        "8d35c3feb5a14fbeb1bdc36f3bf60f1e": {
          "model_module": "@jupyter-widgets/controls",
          "model_name": "HTMLModel",
          "model_module_version": "1.5.0",
          "state": {
            "_dom_classes": [],
            "_model_module": "@jupyter-widgets/controls",
            "_model_module_version": "1.5.0",
            "_model_name": "HTMLModel",
            "_view_count": null,
            "_view_module": "@jupyter-widgets/controls",
            "_view_module_version": "1.5.0",
            "_view_name": "HTMLView",
            "description": "",
            "description_tooltip": null,
            "layout": "IPY_MODEL_e4ed960bb43345679df19811ad34da33",
            "placeholder": "​",
            "style": "IPY_MODEL_12073c773d1e4e0f8fda5b84ee85f593",
            "value": "Downloading tf_model.h5: 100%"
          }
        },
        "04f91b0e285640f48d011d537a3b8019": {
          "model_module": "@jupyter-widgets/controls",
          "model_name": "FloatProgressModel",
          "model_module_version": "1.5.0",
          "state": {
            "_dom_classes": [],
            "_model_module": "@jupyter-widgets/controls",
            "_model_module_version": "1.5.0",
            "_model_name": "FloatProgressModel",
            "_view_count": null,
            "_view_module": "@jupyter-widgets/controls",
            "_view_module_version": "1.5.0",
            "_view_name": "ProgressView",
            "bar_style": "success",
            "description": "",
            "description_tooltip": null,
            "layout": "IPY_MODEL_b2997b610d8c4bcc80e507b5edab2482",
            "max": 526681800,
            "min": 0,
            "orientation": "horizontal",
            "style": "IPY_MODEL_f9e5e7bd5c2a4f92abea6b206aadedb9",
            "value": 526681800
          }
        },
        "537dac7fc42649fabde43d3b7da77534": {
          "model_module": "@jupyter-widgets/controls",
          "model_name": "HTMLModel",
          "model_module_version": "1.5.0",
          "state": {
            "_dom_classes": [],
            "_model_module": "@jupyter-widgets/controls",
            "_model_module_version": "1.5.0",
            "_model_name": "HTMLModel",
            "_view_count": null,
            "_view_module": "@jupyter-widgets/controls",
            "_view_module_version": "1.5.0",
            "_view_name": "HTMLView",
            "description": "",
            "description_tooltip": null,
            "layout": "IPY_MODEL_75e8a708018544359e5d150cb355ace2",
            "placeholder": "​",
            "style": "IPY_MODEL_972e4ca6033248cfa27722a5c18e3199",
            "value": " 502M/502M [00:26&lt;00:00, 23.1MB/s]"
          }
        },
        "bd2f2ba0550a4a8e82887aacac190db7": {
          "model_module": "@jupyter-widgets/base",
          "model_name": "LayoutModel",
          "model_module_version": "1.2.0",
          "state": {
            "_model_module": "@jupyter-widgets/base",
            "_model_module_version": "1.2.0",
            "_model_name": "LayoutModel",
            "_view_count": null,
            "_view_module": "@jupyter-widgets/base",
            "_view_module_version": "1.2.0",
            "_view_name": "LayoutView",
            "align_content": null,
            "align_items": null,
            "align_self": null,
            "border": null,
            "bottom": null,
            "display": null,
            "flex": null,
            "flex_flow": null,
            "grid_area": null,
            "grid_auto_columns": null,
            "grid_auto_flow": null,
            "grid_auto_rows": null,
            "grid_column": null,
            "grid_gap": null,
            "grid_row": null,
            "grid_template_areas": null,
            "grid_template_columns": null,
            "grid_template_rows": null,
            "height": null,
            "justify_content": null,
            "justify_items": null,
            "left": null,
            "margin": null,
            "max_height": null,
            "max_width": null,
            "min_height": null,
            "min_width": null,
            "object_fit": null,
            "object_position": null,
            "order": null,
            "overflow": null,
            "overflow_x": null,
            "overflow_y": null,
            "padding": null,
            "right": null,
            "top": null,
            "visibility": null,
            "width": null
          }
        },
        "e4ed960bb43345679df19811ad34da33": {
          "model_module": "@jupyter-widgets/base",
          "model_name": "LayoutModel",
          "model_module_version": "1.2.0",
          "state": {
            "_model_module": "@jupyter-widgets/base",
            "_model_module_version": "1.2.0",
            "_model_name": "LayoutModel",
            "_view_count": null,
            "_view_module": "@jupyter-widgets/base",
            "_view_module_version": "1.2.0",
            "_view_name": "LayoutView",
            "align_content": null,
            "align_items": null,
            "align_self": null,
            "border": null,
            "bottom": null,
            "display": null,
            "flex": null,
            "flex_flow": null,
            "grid_area": null,
            "grid_auto_columns": null,
            "grid_auto_flow": null,
            "grid_auto_rows": null,
            "grid_column": null,
            "grid_gap": null,
            "grid_row": null,
            "grid_template_areas": null,
            "grid_template_columns": null,
            "grid_template_rows": null,
            "height": null,
            "justify_content": null,
            "justify_items": null,
            "left": null,
            "margin": null,
            "max_height": null,
            "max_width": null,
            "min_height": null,
            "min_width": null,
            "object_fit": null,
            "object_position": null,
            "order": null,
            "overflow": null,
            "overflow_x": null,
            "overflow_y": null,
            "padding": null,
            "right": null,
            "top": null,
            "visibility": null,
            "width": null
          }
        },
        "12073c773d1e4e0f8fda5b84ee85f593": {
          "model_module": "@jupyter-widgets/controls",
          "model_name": "DescriptionStyleModel",
          "model_module_version": "1.5.0",
          "state": {
            "_model_module": "@jupyter-widgets/controls",
            "_model_module_version": "1.5.0",
            "_model_name": "DescriptionStyleModel",
            "_view_count": null,
            "_view_module": "@jupyter-widgets/base",
            "_view_module_version": "1.2.0",
            "_view_name": "StyleView",
            "description_width": ""
          }
        },
        "b2997b610d8c4bcc80e507b5edab2482": {
          "model_module": "@jupyter-widgets/base",
          "model_name": "LayoutModel",
          "model_module_version": "1.2.0",
          "state": {
            "_model_module": "@jupyter-widgets/base",
            "_model_module_version": "1.2.0",
            "_model_name": "LayoutModel",
            "_view_count": null,
            "_view_module": "@jupyter-widgets/base",
            "_view_module_version": "1.2.0",
            "_view_name": "LayoutView",
            "align_content": null,
            "align_items": null,
            "align_self": null,
            "border": null,
            "bottom": null,
            "display": null,
            "flex": null,
            "flex_flow": null,
            "grid_area": null,
            "grid_auto_columns": null,
            "grid_auto_flow": null,
            "grid_auto_rows": null,
            "grid_column": null,
            "grid_gap": null,
            "grid_row": null,
            "grid_template_areas": null,
            "grid_template_columns": null,
            "grid_template_rows": null,
            "height": null,
            "justify_content": null,
            "justify_items": null,
            "left": null,
            "margin": null,
            "max_height": null,
            "max_width": null,
            "min_height": null,
            "min_width": null,
            "object_fit": null,
            "object_position": null,
            "order": null,
            "overflow": null,
            "overflow_x": null,
            "overflow_y": null,
            "padding": null,
            "right": null,
            "top": null,
            "visibility": null,
            "width": null
          }
        },
        "f9e5e7bd5c2a4f92abea6b206aadedb9": {
          "model_module": "@jupyter-widgets/controls",
          "model_name": "ProgressStyleModel",
          "model_module_version": "1.5.0",
          "state": {
            "_model_module": "@jupyter-widgets/controls",
            "_model_module_version": "1.5.0",
            "_model_name": "ProgressStyleModel",
            "_view_count": null,
            "_view_module": "@jupyter-widgets/base",
            "_view_module_version": "1.2.0",
            "_view_name": "StyleView",
            "bar_color": null,
            "description_width": ""
          }
        },
        "75e8a708018544359e5d150cb355ace2": {
          "model_module": "@jupyter-widgets/base",
          "model_name": "LayoutModel",
          "model_module_version": "1.2.0",
          "state": {
            "_model_module": "@jupyter-widgets/base",
            "_model_module_version": "1.2.0",
            "_model_name": "LayoutModel",
            "_view_count": null,
            "_view_module": "@jupyter-widgets/base",
            "_view_module_version": "1.2.0",
            "_view_name": "LayoutView",
            "align_content": null,
            "align_items": null,
            "align_self": null,
            "border": null,
            "bottom": null,
            "display": null,
            "flex": null,
            "flex_flow": null,
            "grid_area": null,
            "grid_auto_columns": null,
            "grid_auto_flow": null,
            "grid_auto_rows": null,
            "grid_column": null,
            "grid_gap": null,
            "grid_row": null,
            "grid_template_areas": null,
            "grid_template_columns": null,
            "grid_template_rows": null,
            "height": null,
            "justify_content": null,
            "justify_items": null,
            "left": null,
            "margin": null,
            "max_height": null,
            "max_width": null,
            "min_height": null,
            "min_width": null,
            "object_fit": null,
            "object_position": null,
            "order": null,
            "overflow": null,
            "overflow_x": null,
            "overflow_y": null,
            "padding": null,
            "right": null,
            "top": null,
            "visibility": null,
            "width": null
          }
        },
        "972e4ca6033248cfa27722a5c18e3199": {
          "model_module": "@jupyter-widgets/controls",
          "model_name": "DescriptionStyleModel",
          "model_module_version": "1.5.0",
          "state": {
            "_model_module": "@jupyter-widgets/controls",
            "_model_module_version": "1.5.0",
            "_model_name": "DescriptionStyleModel",
            "_view_count": null,
            "_view_module": "@jupyter-widgets/base",
            "_view_module_version": "1.2.0",
            "_view_name": "StyleView",
            "description_width": ""
          }
        }
      }
    }
  },
  "nbformat": 4,
  "nbformat_minor": 0
}